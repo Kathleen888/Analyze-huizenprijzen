{
 "cells": [
  {
   "cell_type": "code",
   "execution_count": 1,
   "id": "9dd2fee4-1b83-4fda-95b8-182bcb8a400e",
   "metadata": {},
   "outputs": [
    {
     "name": "stdout",
     "output_type": "stream",
     "text": [
      "Requirement already satisfied: geopandas in c:\\users\\kathl\\anaconda3\\envs\\mijn_omgeving\\lib\\site-packages (1.0.1)\n",
      "Requirement already satisfied: numpy>=1.22 in c:\\users\\kathl\\anaconda3\\envs\\mijn_omgeving\\lib\\site-packages (from geopandas) (2.2.4)\n",
      "Requirement already satisfied: pyogrio>=0.7.2 in c:\\users\\kathl\\anaconda3\\envs\\mijn_omgeving\\lib\\site-packages (from geopandas) (0.10.0)\n",
      "Requirement already satisfied: packaging in c:\\users\\kathl\\anaconda3\\envs\\mijn_omgeving\\lib\\site-packages (from geopandas) (24.2)\n",
      "Requirement already satisfied: pandas>=1.4.0 in c:\\users\\kathl\\anaconda3\\envs\\mijn_omgeving\\lib\\site-packages (from geopandas) (2.2.3)\n",
      "Requirement already satisfied: pyproj>=3.3.0 in c:\\users\\kathl\\anaconda3\\envs\\mijn_omgeving\\lib\\site-packages (from geopandas) (3.7.1)\n",
      "Requirement already satisfied: shapely>=2.0.0 in c:\\users\\kathl\\anaconda3\\envs\\mijn_omgeving\\lib\\site-packages (from geopandas) (2.1.0)\n",
      "Requirement already satisfied: python-dateutil>=2.8.2 in c:\\users\\kathl\\anaconda3\\envs\\mijn_omgeving\\lib\\site-packages (from pandas>=1.4.0->geopandas) (2.9.0.post0)\n",
      "Requirement already satisfied: pytz>=2020.1 in c:\\users\\kathl\\anaconda3\\envs\\mijn_omgeving\\lib\\site-packages (from pandas>=1.4.0->geopandas) (2024.1)\n",
      "Requirement already satisfied: tzdata>=2022.7 in c:\\users\\kathl\\anaconda3\\envs\\mijn_omgeving\\lib\\site-packages (from pandas>=1.4.0->geopandas) (2025.1)\n",
      "Requirement already satisfied: certifi in c:\\users\\kathl\\anaconda3\\envs\\mijn_omgeving\\lib\\site-packages (from pyogrio>=0.7.2->geopandas) (2025.1.31)\n",
      "Requirement already satisfied: six>=1.5 in c:\\users\\kathl\\anaconda3\\envs\\mijn_omgeving\\lib\\site-packages (from python-dateutil>=2.8.2->pandas>=1.4.0->geopandas) (1.17.0)\n",
      "Note: you may need to restart the kernel to use updated packages.\n"
     ]
    }
   ],
   "source": [
    "pip install geopandas"
   ]
  },
  {
   "cell_type": "code",
   "execution_count": 2,
   "id": "f3c17219-047f-4689-9256-d40df5531cc1",
   "metadata": {},
   "outputs": [],
   "source": [
    "import pandas as pd\n",
    "import matplotlib.pyplot as plt\n",
    "import datetime\n",
    "import seaborn as sns\n",
    "import numpy as np\n",
    "import geopandas as gpd"
   ]
  },
  {
   "cell_type": "markdown",
   "id": "cd2551474e3c0fdd",
   "metadata": {},
   "source": [
    "**Genereren van de laatste 6 jaren als strings**.\n",
    "\n",
    "haalt het huidige jaar op en genereert een lijst met de afgelopen 6 jaren.  \n",
    "Dit wordt gebruikt om data te filteren op recente jaren.\n"
   ]
  },
  {
   "cell_type": "code",
   "execution_count": 3,
   "id": "21984d2713d30f3a",
   "metadata": {
    "ExecuteTime": {
     "end_time": "2025-02-28T12:05:22.837802Z",
     "start_time": "2025-02-28T12:05:22.818215Z"
    }
   },
   "outputs": [
    {
     "name": "stdout",
     "output_type": "stream",
     "text": [
      "['2019', '2020', '2021', '2022', '2023', '2024']\n"
     ]
    }
   ],
   "source": [
    "current_year = datetime.datetime.now().year\n",
    "JAREN = [str(jaar) for jaar in range(current_year - 6, current_year )]\n",
    "print(JAREN)"
   ]
  },
  {
   "cell_type": "code",
   "execution_count": 4,
   "id": "a8a8489a-787b-44bc-a6ea-cb754c452348",
   "metadata": {
    "ExecuteTime": {
     "end_time": "2025-02-28T12:05:22.298737Z",
     "start_time": "2025-02-28T12:04:19.723187Z"
    }
   },
   "outputs": [
    {
     "name": "stdout",
     "output_type": "stream",
     "text": [
      "laden is gelukt\n"
     ]
    }
   ],
   "source": [
    "def laad_en_filter_data(pad, jaren):\n",
    "    \"\"\"\n",
    "    Deze functie laadt een Excel-bestand in, selecteert specifieke tabbladen\n",
    "    op basis van de opgegeven lijst met jaren, en combineert de data tot één Pandas DataFrame.\n",
    "\n",
    "    Parameters:\n",
    "    pad (str): Het pad naar het Excel-bestand.\n",
    "    jaren (list): Een lijst met tabbladnamen (jaartallen) die moeten worden ingeladen.\n",
    "\n",
    "    Returns:\n",
    "    pd.DataFrame: Een Pandas DataFrame die de gecombineerde data van de geselecteerde tabbladen bevat.\n",
    "    \"\"\"\n",
    "    data = pd.read_excel(pad, sheet_name= None)\n",
    "    selectie_data = {jaar: data[jaar] for jaar in jaren}\n",
    "    print(\"laden is gelukt\")\n",
    "    return pd.concat(selectie_data.values(),  ignore_index=True)\n",
    "\n",
    "pad = \"data/dataset vastgoed_2010_2024.xlsx\"\n",
    "dataset = laad_en_filter_data(pad, JAREN)\n"
   ]
  },
  {
   "cell_type": "code",
   "execution_count": null,
   "id": "6a116cc8-f369-495e-9fed-a6e420d3e182",
   "metadata": {},
   "outputs": [],
   "source": [
    "dataset.head()"
   ]
  },
  {
   "cell_type": "markdown",
   "id": "6793340d-2cd2-4b68-b1a8-9830425168b3",
   "metadata": {},
   "source": [
    "**Hernoemen kolommen**\n",
    "  \n",
    "Ik kies vaste kolomnamen en hernoem de kolomnamen via een functie.\n",
    "\n",
    "Ik voeg een kolom toe met period type in deze functie met waarden Kwartaal, Semester en Jaar"
   ]
  },
  {
   "cell_type": "code",
   "execution_count": null,
   "id": "aec585b77a843fa8",
   "metadata": {
    "ExecuteTime": {
     "end_time": "2025-02-28T12:05:22.987877Z",
     "start_time": "2025-02-28T12:05:22.929961Z"
    }
   },
   "outputs": [],
   "source": [
    "nieuwe_kolomnamen = {'CD_YEAR': 'Jaar', \n",
    "                     'CD_TYPE_NL': 'Woningtype_NL', \n",
    "                     'CD_TYPE_FR': 'Woningtype_FR', \n",
    "                     'CD_REFNIS': 'NIS-code', \n",
    "                     'CD_REFNIS_NL': 'Naam_NL', \n",
    "                     'CD_REFNIS_FR': 'Naam_FR', \n",
    "                     'CD_PERIOD': 'Periode', \n",
    "                     'MS_TOTAL_TRANSACTIONS': 'Aantal_transacties', \n",
    "                     'MS_P_25':'Prijs_25e_Percentiel', \n",
    "                     'MS_P_50_median': 'Prijs_50e_Percentiel', \n",
    "                     'MS_P_75': 'Prijs_75e_Percentiel', \n",
    "                     'CD_niveau_refnis': 'Geografisch_Niveau'}\n",
    "\n",
    "\n",
    "\n",
    "def hernoem_kolomnamen(dataset):\n",
    "    dataset.rename(columns = nieuwe_kolomnamen, inplace = True)\n",
    "    dataset['periode_type'] = dataset['Periode'].map(lambda x: \"Jaar\" if x == 'Y' else 'Kwartaal' if x.startswith(\"Q\") else \"Semester\" )\n",
    "    return dataset\n",
    "\n",
    "hernoem_kolomnamen(dataset)\n",
    "dataset.head()\n",
    "\n"
   ]
  },
  {
   "cell_type": "markdown",
   "id": "b16b4ef6-8a1c-455a-b4d8-64e6f4166b4c",
   "metadata": {},
   "source": [
    "**Maak een bestand df om de originele dataset te behouden + verzamel informatie over de dataset**\n",
    "    \n",
    "maak een copy van de dataset om op te werken\n",
    "    \n",
    "een functie die de nodige informatie verzameld over de dataset:\n",
    "\n",
    "- eerste 10 rijen\n",
    "- info()\n",
    "- output van describe in een variabel stats\n",
    "- info over missing values\n",
    "    \n",
    "de functie retourneert ook al die waardes in variabelen voor later gebruik\n",
    "\n",
    "Ik maak een df bestand aan en slaag de resultaten van de inspect functie op in result"
   ]
  },
  {
   "cell_type": "code",
   "execution_count": null,
   "id": "4e8e3ef105d189ce",
   "metadata": {
    "ExecuteTime": {
     "end_time": "2025-02-28T12:05:24.143963Z",
     "start_time": "2025-02-28T12:05:23.119367Z"
    }
   },
   "outputs": [],
   "source": [
    "def create_df(dataset):\n",
    "    df = dataset.copy()\n",
    "    return df\n",
    "\n",
    "def inspect_df(df):\n",
    "    if df.empty:\n",
    "        print(\"De dataset is leeg.\")\n",
    "        return None\n",
    "    else:\n",
    "        print(f\"Eerste 10 rijen\")\n",
    "        display(df.head(10))\n",
    "        print(f\"Informatie over de dataset:\")\n",
    "        df.info()\n",
    "        stats = pd.DataFrame(df.describe(include = \"all\"))\n",
    "        missing_values = df.isnull().sum()\n",
    "        missing_percentage = (missing_values/len(df)*100).round(2)\n",
    "        missing_stats = pd.DataFrame({\"missing_values\" : missing_values, \"missing_percentage\": missing_percentage})\n",
    "        print(f\"Samenvattende statistieken:\")\n",
    "        display(stats)\n",
    "        display(missing_stats)\n",
    "        return {\"stats\": stats, \"missing_values\": missing_values, \"missing_percentage\": missing_percentage, \"missing_stats\": missing_stats}\n",
    "\n",
    "df = create_df(dataset)\n",
    "result = inspect_df(df)\n"
   ]
  },
  {
   "cell_type": "markdown",
   "id": "69d9a314-d51e-44dd-95c0-8866b0497765",
   "metadata": {},
   "source": [
    "**Boxplot van de numerieke kolommen**\n",
    "\n",
    "Ik maak een boxplot van de numerieke kolommen om de spreiding van de data te bekijken en te kijken waar er outliers zijn."
   ]
  },
  {
   "cell_type": "code",
   "execution_count": null,
   "id": "bfb31289-990e-4619-88d7-b53518d9356b",
   "metadata": {},
   "outputs": [],
   "source": [
    "def create_boxplot(df, kolom):\n",
    "    fig, ax = plt.subplots()\n",
    "    ax.boxplot(df[kolom].dropna(), vert = False, patch_artist = True,\n",
    "          boxprops = dict(facecolor = 'lightblue', color = 'black', linewidth = 2),\n",
    "          medianprops = dict(color = 'red', linewidth = 2),\n",
    "          whiskerprops = dict(color = 'black', linewidth = 2),\n",
    "          capprops = dict(color = 'black', linewidth = 2),\n",
    "          flierprops = dict(marker = 'o', color = 'red', markersize = 8))\n",
    "    ax.set_title(f'Boxplot van {kolom}')\n",
    "    ax.set_xlabel(f'{kolom}')\n",
    "    ax.xaxis.grid(True, linestyle = '--', alpha = 0.7)\n",
    "    plt.show()\n",
    "\n",
    "numerieke_kolommen = df.select_dtypes(include = 'number').columns\n",
    "print(numerieke_kolommen)\n",
    "for col in numerieke_kolommen:\n",
    "    create_boxplot(df, col)"
   ]
  },
  {
   "cell_type": "code",
   "execution_count": null,
   "id": "6bb4e7a0-3441-455d-89de-439e0fa53f47",
   "metadata": {},
   "outputs": [],
   "source": [
    "def check_outliers(df, kolom):\n",
    "    q1 = np.percentile(df[kolom].dropna(), 25)\n",
    "    q3 = np.percentile(df[kolom].dropna(), 75)\n",
    "    iqr = q3 -q1\n",
    "    lower_bound = q1 - 1.5 *iqr\n",
    "    upper_bound = q3 + 1.5 *iqr\n",
    "    outliers = df[(df[kolom] < lower_bound) | (df[kolom] > upper_bound)]\n",
    "    return outliers\n",
    "\n",
    "print(check_outliers(df, 'Prijs_25e_Percentiel').shape)\n",
    "print(check_outliers(df, 'Prijs_50e_Percentiel').shape)\n",
    "print(check_outliers(df, 'Prijs_75e_Percentiel').shape)\n",
    "\n",
    "outliers_25_before = check_outliers(df, 'Prijs_25e_Percentiel')\n",
    "outliers_50_before = check_outliers(df, 'Prijs_50e_Percentiel')\n",
    "outliers_75_before = check_outliers(df, 'Prijs_75e_Percentiel')\n",
    "print(outliers_25_before.index)\n",
    "print(outliers_50_before.index)\n",
    "print(outliers_75_before.index)\n"
   ]
  },
  {
   "cell_type": "markdown",
   "id": "a4e9435d-f7b9-4944-b31c-f9ee57849613",
   "metadata": {},
   "source": [
    "**Visuele voorstelling van de missing values**"
   ]
  },
  {
   "cell_type": "code",
   "execution_count": null,
   "id": "677f3962d9b22efb",
   "metadata": {
    "ExecuteTime": {
     "end_time": "2025-02-28T12:05:25.315106Z",
     "start_time": "2025-02-28T12:05:24.323526Z"
    }
   },
   "outputs": [],
   "source": [
    "def visual_missing_percentage(result):\n",
    "    missing_percentage = result[\"missing_percentage\"]\n",
    "    #missing_percentage_filterd = missing_percentage[missing_percentage > 0]\n",
    "    #missing_percentage_filterd.plot(kind = \"bar\", rot = 30)\n",
    "    missing_percentage.plot(kind = \"bar\", rot = 90)\n",
    "    plt.title(\"Percentage Missende Waarden per Kolom\")\n",
    "    plt.ylabel(\"Percentage\")\n",
    "    plt.show()\n",
    "visual_missing_percentage(result)\n",
    "\n"
   ]
  },
  {
   "cell_type": "markdown",
   "id": "8cb524ba-da43-4949-bb5e-475a5b7891ba",
   "metadata": {},
   "source": [
    "**Onderzoeken Missing Values**"
   ]
  },
  {
   "cell_type": "markdown",
   "id": "a44a8e6b-8a91-4974-990b-1a2e9e81cfa6",
   "metadata": {},
   "source": [
    "We hebben informatie over de missing values in variabele result"
   ]
  },
  {
   "cell_type": "code",
   "execution_count": null,
   "id": "d59b759deb7755bb",
   "metadata": {
    "ExecuteTime": {
     "end_time": "2025-02-28T12:05:25.409361Z",
     "start_time": "2025-02-28T12:05:25.397731Z"
    }
   },
   "outputs": [],
   "source": [
    "#Onderzoeken missing_values\n",
    "print(result[\"missing_values\"])"
   ]
  },
  {
   "cell_type": "markdown",
   "id": "af2de4ff-f603-4ea6-9503-38c6a76b9c00",
   "metadata": {},
   "source": [
    "**Uitzoeken waar de missing values voorkomen**\n",
    "\n",
    "De visual 'Percentage Missende Waarden per Kolom' toont dat de missing values zich voordoen in de kolommen Prijs_25e_Percentiel, Prijs_50e_Percentiel en Prijs_75e_Percentiel.\n",
    "\n",
    "Groeperen op jaar en periode om na te gaan of er specifieke periodes zijn met meer missende data\n",
    "- De dataset wordt gegroepeerd per Jaar en Periode.\n",
    "- Het aantal missende waarden wordt per groep berekend.\n",
    "- Een pivot-table wordt gebruikt om de data te structureren voor visualisatie.\n",
    "- Een heatmap toont waar de ontbrekende waarden zich bevinden.\n",
    "\n"
   ]
  },
  {
   "cell_type": "code",
   "execution_count": null,
   "id": "5311698602e9bb46",
   "metadata": {
    "ExecuteTime": {
     "end_time": "2025-02-28T12:05:26.476041Z",
     "start_time": "2025-02-28T12:05:25.451206Z"
    }
   },
   "outputs": [],
   "source": [
    "def heatmap_missing_values_period_year(df):\n",
    "    if \"Prijs_50e_Percentiel\" not in df.columns:\n",
    "        print(\"Fout: De kolom 'Prijs_50e_Percentiel' ontbreekt in de dataset. Visual niet mogelijk\")\n",
    "        return\n",
    "    missing_data = df.groupby([\"Jaar\", \"Periode\"])[[\"Prijs_25e_Percentiel\", \"Prijs_50e_Percentiel\", \"Prijs_75e_Percentiel\"]].apply(lambda x : x.isnull().sum()).reset_index()\n",
    "    missing_pivot = missing_data.pivot(index = \"Jaar\", columns = \"Periode\", values = \"Prijs_50e_Percentiel\")  \n",
    "    plt.figure(figsize=(10, 6))\n",
    "    sns.heatmap(missing_pivot, cmap='Reds', annot=True, fmt='g')\n",
    "    plt.title(\"Aantal missende mediaanprijzen per Periode en jaar\")\n",
    "    plt.xlabel(\"Periode\")\n",
    "    plt.ylabel(\"Jaar\")\n",
    "    plt.show()\n",
    "\n",
    "heatmap_missing_values_period_year(df)"
   ]
  },
  {
   "cell_type": "markdown",
   "id": "48a65b18-4e1f-4850-b2ed-776b67ca7c2a",
   "metadata": {},
   "source": [
    "**Missende waardes per periode type**\n",
    "\n",
    "Vanuit de heatmap zien we dat de meeste missende waardes zich voordoen in de kwartalen en dat er voor 2024 Q4, S2 en Y helemaal geen waardes zijn.\n",
    "\n",
    "Ik maak een groepering missing per period type om dit te controleren\n",
    "\n",
    "De functie  berekent het aantal missende waardes per periode type.\n",
    "\n",
    "Parameters: \n",
    "- df(de dataset)\n",
    "- columns (list, optional): Lijst met kolommen waarvoor missende waarden moeten worden geanalyseerd.\n",
    "                              Standaard wordt gekeken naar prijspercentielen.\n",
    "\n",
    "Returns:\n",
    "- DataFrame met aantal missende waarden per periode-type."
   ]
  },
  {
   "cell_type": "code",
   "execution_count": null,
   "id": "76f337943b7f09c8",
   "metadata": {
    "ExecuteTime": {
     "end_time": "2025-02-28T12:05:26.631830Z",
     "start_time": "2025-02-28T12:05:26.571477Z"
    }
   },
   "outputs": [],
   "source": [
    "def missing_per_periode_type(df, columns = None):\n",
    "    if columns is None:\n",
    "        columns = ['Prijs_25e_Percentiel', 'Prijs_50e_Percentiel', 'Prijs_75e_Percentiel']\n",
    "        return df.groupby(['periode_type'])[columns].apply(lambda x: x.isnull().sum())\n",
    "\n",
    "\n",
    "missing_per_periode_type_full_dataset = missing_per_periode_type(df)    \n",
    "    \n",
    "print(missing_per_periode_type_full_dataset)"
   ]
  },
  {
   "cell_type": "code",
   "execution_count": null,
   "id": "9fee855fe05ff6e4",
   "metadata": {
    "ExecuteTime": {
     "end_time": "2025-02-28T12:05:26.774177Z",
     "start_time": "2025-02-28T12:05:26.726680Z"
    }
   },
   "outputs": [],
   "source": [
    "df.loc[(df[\"periode_type\"] == \"Kwartaal\") & (df[\"Jaar\"] == 2024) & (df[\"Naam_NL\"] == \"BOECHOUT\"), [\"Jaar\",\"Periode\",\"Naam_NL\", \"Prijs_25e_Percentiel\", \"Prijs_50e_Percentiel\", \"Prijs_75e_Percentiel\"]]"
   ]
  },
  {
   "cell_type": "markdown",
   "id": "f3786326-2f34-40f5-b0f2-1ffc39ea3862",
   "metadata": {},
   "source": [
    "**Onderzoeken of forward_fill en backward_fill een goede methode zou zijn om missende waardes te behandelen**\n",
    "\n",
    "Waarom deze methode?\n",
    "- Dataset bestaat uit mediaanprijzen dus minder gevoelig voor uitschieters\n",
    "- Werken binnen gemeente, periode type, jaar en woningtype omdat prijzen daarin vaken consistent blijven\n",
    "- Deze methodes zullen de missing values opvullen maar geen grote sprongen veroorzaken.\n",
    "\n",
    "Test op gemeente Boechout in 2023 op de kwartalen\n",
    "\n"
   ]
  },
  {
   "cell_type": "code",
   "execution_count": null,
   "id": "71b23b29d71cf7cd",
   "metadata": {
    "ExecuteTime": {
     "end_time": "2025-02-28T12:06:23.474932Z",
     "start_time": "2025-02-28T12:05:26.865202Z"
    },
    "scrolled": true
   },
   "outputs": [],
   "source": [
    "missing_combinations = df.groupby([\"Naam_NL\", \"Jaar\", \"Periode\", \"Woningtype_NL\"])[[\"Prijs_25e_Percentiel\", \"Prijs_50e_Percentiel\", \"Prijs_75e_Percentiel\"]].apply(lambda x: x.isnull().all())\n",
    "missing_combinations = missing_combinations[missing_combinations].reset_index()\n",
    "missing_combinations.to_excel(\"missing_combinations.xlsx\", index=False)\n"
   ]
  },
  {
   "cell_type": "code",
   "execution_count": null,
   "id": "7e684605fbdab1aa",
   "metadata": {
    "ExecuteTime": {
     "end_time": "2025-02-28T12:06:23.834648Z",
     "start_time": "2025-02-28T12:06:23.540772Z"
    },
    "scrolled": true
   },
   "outputs": [],
   "source": [
    "#Tel de missende waarden per combinatie van jaar, woningtype en periode\n",
    "missing_summary = df.groupby([ 'Jaar', 'Periode', 'Woningtype_NL'])[['Prijs_25e_Percentiel', 'Prijs_50e_Percentiel', 'Prijs_75e_Percentiel']].apply(lambda x: x.isnull().sum())\n",
    "\n",
    "#Toon de samenvatting\n",
    "#print(missing_summary)\n",
    "\n",
    "missing_summary.to_excel(\"missing_summary.xlsx\")\n"
   ]
  },
  {
   "cell_type": "code",
   "execution_count": null,
   "id": "b5b63f202392fcb3",
   "metadata": {
    "ExecuteTime": {
     "end_time": "2025-02-28T12:22:14.230221Z",
     "start_time": "2025-02-28T12:22:14.163698Z"
    }
   },
   "outputs": [],
   "source": [
    "#Maak een kopie van de dataset om de originele data niet te wijzigen\n",
    "df_work = df.copy()\n",
    "#Optioneel: exporteer de dataset naar Excel voor inspectie\n",
    "#df_work.to_excel(\"df_work.xlsx\", index=False)\n",
    "\n",
    "#Filter de dataset op:\n",
    "#- Gemeente: \"BOECHOUT\"\n",
    "#- Periode-type: \"Kwartaal\"\n",
    "#- Jaar: 2023\n",
    "df_filterd = df_work[\n",
    "     (df_work[\"Naam_NL\"] == \"BOECHOUT\") & \n",
    "     (df_work[\"periode_type\"] == \"Kwartaal\") & \n",
    "     (df_work[\"Jaar\"] == 2023)].copy()\n",
    "\n",
    "#Optioneel: Bekijk de eerste rijen van de gefilterde dataset\n",
    "#print(df_filterd)\n",
    "#print(df_filterd.info())\n",
    "\n",
    "#Controleer de index van de gefilterde dataset\n",
    "print(df_filterd.index)\n",
    "\n",
    "#Pas forward-fill en backward-fill toe op de mediaanprijzen binnen elke groep.\n",
    "df_filterd.loc[:, ['Prijs_25e_Percentiel', 'Prijs_50e_Percentiel', 'Prijs_75e_Percentiel']] = (\n",
    "    df_filterd.groupby(['Naam_NL', 'Jaar', 'Woningtype_NL'])[['Prijs_25e_Percentiel', 'Prijs_50e_Percentiel', 'Prijs_75e_Percentiel']].transform(lambda group: group.ffill().bfill()))\n",
    "print(df_filterd)\n",
    "\n",
    "\n"
   ]
  },
  {
   "cell_type": "markdown",
   "id": "0ccb496d-41a7-4212-a329-3bc812857350",
   "metadata": {},
   "source": [
    "**Nieuwe df_filterd met het testresultaat Boechout naar excel**"
   ]
  },
  {
   "cell_type": "code",
   "execution_count": null,
   "id": "8a90d289aac9a939",
   "metadata": {
    "ExecuteTime": {
     "end_time": "2025-02-28T12:22:21.116924Z",
     "start_time": "2025-02-28T12:22:21.074744Z"
    },
    "scrolled": true
   },
   "outputs": [],
   "source": [
    "df_filterd.to_excel(\"df_filterd.xlsx\", index=False)"
   ]
  },
  {
   "cell_type": "markdown",
   "id": "7d753771-fc3d-4236-bdb2-345577ace617",
   "metadata": {},
   "source": [
    "**Dataset beperken tot het arrondisement Mechelen + Zemst**\n",
    "\n",
    "Ik ben alleen geïnteresseerd in het arrondissement Mechelen en de gemeente Zemst.\n",
    "\n",
    "Daarom filter ik de dataset zodat alleen de volgende gemeenten overblijven:\n",
    "- Berlaar, Bonheiden, Bornem, Duffel, Heist-op-den-Berg\n",
    "- Lier, Mechelen, Nijlen, Putte, Puurs-Sint-Amands\n",
    "- Sint-Katelijne-Waver, Willebroek, Zemst\n",
    "\n",
    "Hierna bekijk ik opnieuw de dataset met de functies inspect_df en visual_missing_percentage om na te gaan of de missende waardes nu onder de 40% liggen.\n",
    "\n",
    "Bij teveel missende waardes kan forward-fill en backward-fill verkeerde trends suggereren.\n",
    "\n",
    "Als het percentage missende waarden onder de 40% blijft, is het opvullen statistisch betrouwbaarder."
   ]
  },
  {
   "cell_type": "code",
   "execution_count": null,
   "id": "8b785f8dce3aa848",
   "metadata": {
    "ExecuteTime": {
     "end_time": "2025-02-28T13:27:35.573550Z",
     "start_time": "2025-02-28T13:27:35.554443Z"
    }
   },
   "outputs": [],
   "source": [
    "#Filteren van de dataset\n",
    "gemeenten_mechelen = [\n",
    "    'Berlaar', 'Bonheiden', 'Bornem', 'Duffel', 'Heist-op-den-Berg',\n",
    "    'Lier', 'Mechelen', 'Nijlen', 'Putte', 'Puurs-Sint-Amands',\n",
    "    'Sint-Katelijne-Waver', 'Willebroek', 'Zemst'\n",
    "]\n",
    "#lijst gemeenten overzetten in upper case zodat ik kan filteren\n",
    "gemeenten_mechelen = [gemeente.upper() for gemeente in gemeenten_mechelen]\n",
    "\n",
    "df_mechelen = df[df['Naam_NL'].isin(gemeenten_mechelen)].copy()\n",
    "print(df_mechelen['Naam_NL'].unique())"
   ]
  },
  {
   "cell_type": "code",
   "execution_count": null,
   "id": "bbfb5c7a-b940-446d-85d4-fbfa01c7c43a",
   "metadata": {},
   "outputs": [],
   "source": [
    "df_mechelen_no_fill = df_mechelen.copy()"
   ]
  },
  {
   "cell_type": "code",
   "execution_count": null,
   "id": "f5c43aa4",
   "metadata": {},
   "outputs": [],
   "source": [
    "result_mechelen = inspect_df(df_mechelen)\n",
    "visual_missing_percentage(result_mechelen)"
   ]
  },
  {
   "cell_type": "code",
   "execution_count": null,
   "id": "88b03c25",
   "metadata": {},
   "outputs": [],
   "source": [
    "print(result_mechelen[\"missing_values\"])"
   ]
  },
  {
   "cell_type": "markdown",
   "id": "57744cfb-f5d2-4bab-b735-53c0eef0cd35",
   "metadata": {},
   "source": [
    "**Heatmap aantal  missende mediaanprijzen per periode en jaar**\n",
    "\n",
    "Het percentage missing values ligt nu onder de 40%.\n",
    "\n",
    "Ik ga nakijken in welke periodes en welke jaren de missing values liggen.\n",
    "\n",
    "Ik roep dezelfde heatmap op via de functie.\n",
    "\n",
    "Ik roep het aantal missing values per periode type op via de functie."
   ]
  },
  {
   "cell_type": "code",
   "execution_count": null,
   "id": "95fff32e",
   "metadata": {},
   "outputs": [],
   "source": [
    "heatmap_missing_values_period_year(df_mechelen)"
   ]
  },
  {
   "cell_type": "code",
   "execution_count": null,
   "id": "29715dbd",
   "metadata": {},
   "outputs": [],
   "source": [
    "missing_per_periode_type_mechelen = missing_per_periode_type(df_mechelen)   \n",
    "print(missing_per_periode_type_mechelen)"
   ]
  },
  {
   "cell_type": "markdown",
   "id": "9ca5efc6-298a-4f63-b7d4-85b2f8e7989c",
   "metadata": {},
   "source": [
    "**Extra check**\n",
    "\n",
    "Ik bekijk nog twee groeperingen of na te gaan of er geen andere duidelijke patronen zijn."
   ]
  },
  {
   "cell_type": "code",
   "execution_count": null,
   "id": "7872fc1a",
   "metadata": {},
   "outputs": [],
   "source": [
    "missing_per_group = df_mechelen.groupby(['Periode', 'Woningtype_NL'])[['Prijs_25e_Percentiel', 'Prijs_50e_Percentiel', 'Prijs_75e_Percentiel']].apply(lambda x: x.isnull().sum())\n",
    "#Aantal missende waarden per gemeente\n",
    "missing_per_gemeente = df_mechelen.groupby('Naam_NL')[['Prijs_25e_Percentiel', 'Prijs_50e_Percentiel', 'Prijs_75e_Percentiel']].apply(lambda x: x.isnull().sum())\n",
    "\n",
    "display(missing_per_gemeente)\n",
    "display(missing_per_group)"
   ]
  },
  {
   "cell_type": "markdown",
   "id": "75212c2c-afae-49c3-975f-7923a09b8f62",
   "metadata": {},
   "source": [
    "**Eerste toepassing van forward_fill en backward_fill**\n",
    "\n",
    "Ik pas de methode eerst toe op de kwartalen omdat de meeste missende waardes zich in de kwartalen bevinden\n",
    "\n",
    "Ik werk binnen kwartalen van hetzelfde jaar\n",
    "\n",
    "Periodes zoals semester en jaar worden niet aangepast\n",
    "\n",
    "Ik vul de data per gemeente, jaar en woningtype\n",
    "\n",
    "Hierna bekijk ik hoeveel missende waardes er nog over zijn --> 262\n"
   ]
  },
  {
   "cell_type": "code",
   "execution_count": null,
   "id": "c73846ae",
   "metadata": {},
   "outputs": [],
   "source": [
    "#Kwartalen uitfilteren\n",
    "df_mechelen_kwartaal = df_mechelen[df_mechelen[\"periode_type\"] == \"Kwartaal\"].copy()\n",
    "#Kwartalen opvullen\n",
    "df_mechelen_kwartaal.loc[:,['Prijs_25e_Percentiel', 'Prijs_50e_Percentiel', 'Prijs_75e_Percentiel']] = (\n",
    "    df_mechelen_kwartaal.groupby(['Naam_NL', 'Jaar', 'Woningtype_NL'])[['Prijs_25e_Percentiel', 'Prijs_50e_Percentiel', 'Prijs_75e_Percentiel']].transform(lambda group: group.ffill().bfill()))\n",
    "#Dataframe updaten met nieuwe waardes\n",
    "df_mechelen.update(df_mechelen_kwartaal)\n",
    "#Nagaan hoeveel missende waardes er nog over zijn na de aanpassing\n",
    "print(df_mechelen.isnull().sum())\n",
    "\n"
   ]
  },
  {
   "cell_type": "markdown",
   "id": "0cb339e4-ce45-4b1d-aa57-0af7b8fa6aef",
   "metadata": {},
   "source": [
    "**Opnieuw missing per periode type bekijen**\n",
    "\n",
    "Nog niet alle kwartalen zijn gevuld. Dit komt omdat er voor sommige kwartalen geen waardes zijn om mee te vullen.\n",
    "\n",
    "\n"
   ]
  },
  {
   "cell_type": "code",
   "execution_count": null,
   "id": "dd296f11",
   "metadata": {},
   "outputs": [],
   "source": [
    "missing_per_periode_type_mechelen_na_kwartalen1 = missing_per_periode_type(df_mechelen)\n",
    "print(missing_per_periode_type_mechelen_na_kwartalen1)\n"
   ]
  },
  {
   "cell_type": "markdown",
   "id": "63ffc210-1c1f-4319-8145-c974516b7fd2",
   "metadata": {},
   "source": [
    "**Nagaan of er bepaalde woningtypes zijn waarvoor er geen kwartaal is doorgegeven**\n",
    "\n",
    "Sommige gemeentes hebben voor geen enkel kwartaal data geregistreerd bij bepaalde woningtypes.\n",
    "Ik indentificeer welke gemeente, woningtype en jaar géén enkel kwartaal bevatten."
   ]
  },
  {
   "cell_type": "code",
   "execution_count": null,
   "id": "14b6d510",
   "metadata": {},
   "outputs": [],
   "source": [
    "# Groepeer per gemeente, woningtype en jaar en tel de missende kwartalen\n",
    "missing_per_groep = df_mechelen_kwartaal.groupby([\"Naam_NL\", \"Jaar\", \"Woningtype_NL\"])[[\"Prijs_25e_Percentiel\", \"Prijs_50e_Percentiel\", \"Prijs_75e_Percentiel\"]].apply(lambda x: x.isnull().sum())\n",
    "missing_per_groep.head()\n",
    "# Toon alleen de groepen waar alle waarden ontbreken\n",
    "totaal_missing = missing_per_groep[(missing_per_groep == 4).all(axis=1)]\n",
    "totaal_missing.head()\n",
    "\n",
    "# Bekijk de eerste resultaten\n",
    "totaal_missing.index.unique()\n",
    "# df_mechelen.to_excel(\"df_mechelen.xlsx\", index=False)\n"
   ]
  },
  {
   "cell_type": "markdown",
   "id": "ccb6be6b-79f1-45cc-a8c6-d04167da6243",
   "metadata": {},
   "source": [
    "**Extra check**\n",
    "\n",
    "We zien dat bv voor duffel effectief voor appartementen voor bepaalde jaren de 4 kwartalen niet zijn ingevuld."
   ]
  },
  {
   "cell_type": "code",
   "execution_count": null,
   "id": "1bc774b8",
   "metadata": {},
   "outputs": [],
   "source": [
    "df_mechelen[(df_mechelen['Naam_NL'] == \"DUFFEL\") & (df[\"Woningtype_NL\"] == \"Appartementen\")]\n"
   ]
  },
  {
   "cell_type": "markdown",
   "id": "a0b39b7f-3df9-4962-8d39-1bf986cb50ab",
   "metadata": {},
   "source": [
    "**Analyse van ontbrekende waarden per gemeente en woningtype**\n",
    "\n",
    "Ik onderzoek het percentage ontbrekende waarden per combinatie van gemeente en woningtype.\n",
    "\n",
    "Omdat ik werk met drie prijspercentielen (25e, 50e en 75e), bereken ik het gemiddelde missingspercentage om een algemeen beeld te krijgen van de datavolledigheid.\n",
    "\n",
    "Ik focus op combinaties waarbij meer dan 50% van de waarden ontbreekt, omdat deze onvoldoende betrouwbaar zijn voor verdere analyse.\n",
    "\n",
    "In totaal vond ik 5 van zulke combinaties, waarvan de meeste betrekking hebben op appartementen in 5 verschillende gemeenten.\n",
    "\n",
    "Deze rijen nam ik niet meer mee in verdere analyse"
   ]
  },
  {
   "cell_type": "code",
   "execution_count": null,
   "id": "99a54ab1",
   "metadata": {},
   "outputs": [],
   "source": [
    "# Bereken het percentage missende waarden per gemeente en woningtype\n",
    "missing_percentages = df_mechelen.groupby(['Naam_NL', 'Woningtype_NL'])[['Prijs_25e_Percentiel', 'Prijs_50e_Percentiel', 'Prijs_75e_Percentiel']].apply(lambda x: x.isnull().mean() * 100)\n",
    "#print(missing_percentages)\n",
    "# Neem het gemiddelde missende percentage over de drie prijspercentielen om een samenvattende score per combo van gemeente en woningtype.\n",
    "missing_percentages['Gemiddeld_Missing_%'] = missing_percentages.mean(axis=1)\n",
    "#print(missing_percentages)\n",
    "# Filter alleen de combinaties waar meer dan 50% van de waarden ontbreekt\n",
    "gemeenten_met_veel_missende_data = missing_percentages[missing_percentages['Gemiddeld_Missing_%'] > 50].reset_index()\n",
    "\n",
    "# Toon alleen de relevante kolommen\n",
    "gemeenten_met_veel_missende_data = gemeenten_met_veel_missende_data[['Naam_NL', 'Woningtype_NL', 'Gemiddeld_Missing_%']]\n",
    "# Sorteer op grootste percentage eerst\n",
    "gemeenten_met_veel_missende_data = gemeenten_met_veel_missende_data.sort_values(by='Gemiddeld_Missing_%', ascending=False)\n",
    "\n",
    "print(gemeenten_met_veel_missende_data)\n",
    "\n",
    "\n"
   ]
  },
  {
   "cell_type": "markdown",
   "id": "62e80693-cc1e-4f41-9a24-246482336cb3",
   "metadata": {},
   "source": [
    "**Verwijderen van deze combinaties van gemeente en woningtype met meer dan 50% missing values**\n",
    "\n",
    "Ik haal de combinaties van gemeente en woningtype op met meer dan 50% ontbrekende prijswaarden.\n",
    "\n",
    "Daarna doe ik een left merge op df_mechelen om deze combinaties te markeren via de _merge-kolom.\n",
    "\n",
    "Ik filter enkel de rijen met \"left_only\" om de ongewenste combinaties uit de dataset te verwijderen.\n",
    "\n",
    "De _merge-kolom verwijder ik opnieuw.\n",
    "\n",
    "Tot slot bereken ik hoeveel rijen verwijderd zijn en controleer ik hoeveel ontbrekende waarden er nog overblijven per periode.\n",
    "\n"
   ]
  },
  {
   "cell_type": "code",
   "execution_count": null,
   "id": "b04e619c",
   "metadata": {},
   "outputs": [],
   "source": [
    "#de gemeenten met te veel missende data verwijderen.\n",
    "\n",
    "#Haal de gemeenten en woningtypes op die ik wil verwijderen\n",
    "gemeenten_woningtypes_te_verwijderen= gemeenten_met_veel_missende_data[['Naam_NL', \"Woningtype_NL\"]]\n",
    "\n",
    "#Verwijder de '_merge' kolom als die al bestaat\n",
    "if '_merge' in df_mechelen.columns:\n",
    "    df_mechelen = df_mechelen.drop(columns=['_merge'])\n",
    "\n",
    "# Merge de dataset om te zien welke rijen in de verwijderlijst zitten.\n",
    "# Door indicator=True toe te voegen, ontstaat er een nieuwe kolom _merge, waarmee ik kan aanduiden welke rijen enkel in de oorspronkelijke dataset voorkomen.\n",
    "df_mechelen = df_mechelen.merge(\n",
    "    gemeenten_woningtypes_te_verwijderen, \n",
    "    on=['Naam_NL', 'Woningtype_NL'], \n",
    "    how='left', \n",
    "    indicator=True\n",
    ")\n",
    "\n",
    "#filteren op 'left_only' om de ongewenste combinaties te verwijderen + kopie nemen\n",
    "df_mechelen_filterd = df_mechelen[df_mechelen[\"_merge\"]== \"left_only\"].copy()\n",
    "\n",
    "#ik verwijder de merge kolom want die is niet meer nodig\n",
    "df_mechelen_filterd.drop(columns = [\"_merge\"], inplace = True)\n",
    "\n",
    "#Berekenen van aantal verwijderde rijen\n",
    "aantal_verwijderde_rijen = len(df_mechelen)- len(df_mechelen_filterd)\n",
    "print(f\"aantal verwijderde rijen = {aantal_verwijderde_rijen}\")\n",
    "\n",
    "#opnieuw missig values bekijken\n",
    "missing_per_period_type = missing_per_periode_type(df_mechelen_filterd)\n",
    "print(missing_per_period_type)\n",
    "\n",
    "#df_mechelen_filterd.to_excel(\"df_mechelen_filterd.xlsx\", index=False)\n",
    "\n",
    "#opgeschoonde versie maken van df_mechelen\n",
    "df_mechelen = df_mechelen_filterd"
   ]
  },
  {
   "cell_type": "markdown",
   "id": "6c84575c-1c19-42d5-8fbd-07524ec54196",
   "metadata": {},
   "source": [
    "**Ontbrekede semesterwaarden opvullen**\n",
    "\n",
    "Er zijn 10 ontbrekende semesterwaarden per prijspercentiel.\n",
    "\n",
    "Eerst vullen we deze op met forward fill en backward fill.\n",
    "    \n",
    "Vervolgens zijn er nog 3 ontbrekende waarden over.\n",
    "    \n",
    "Deze verwijderen we."
   ]
  },
  {
   "cell_type": "code",
   "execution_count": null,
   "id": "f1d4d638",
   "metadata": {},
   "outputs": [],
   "source": [
    "#Vervolgens de missende waarden in de semester periode aanpakken.\n",
    "#filter enkel de rijen met 'Semester' als periode_type en maak een kopie\n",
    "df_mechelen_semester = df_mechelen[df_mechelen[\"periode_type\"] == \"Semester\"].copy()\n",
    "\n",
    "#Vul de missende waarden op in de percentielkolommen per combinatie van gemeente, jaar en woningtype met ffill en bfill\n",
    "df_mechelen_semester.loc[:,['Prijs_25e_Percentiel', 'Prijs_50e_Percentiel', 'Prijs_75e_Percentiel']] = (\n",
    "    df_mechelen_semester.groupby(['Naam_NL', 'Jaar', 'Woningtype_NL'])[['Prijs_25e_Percentiel', 'Prijs_50e_Percentiel', 'Prijs_75e_Percentiel']].transform(lambda group: group.ffill().bfill()))\n",
    "\n",
    "#Werk de originele dataframe bij met de aangepaste semesterdata\n",
    "df_mechelen.update(df_mechelen_semester)\n",
    "\n",
    "#Bereken het aantal missende waarden per periode_type na de opvulling\n",
    "missing_per_period_type = missing_per_periode_type(df_mechelen)\n",
    "print(missing_per_period_type)\n",
    "\n",
    "#Filter de overgebleven semester-rijen waarin nog steeds minstens één NaN staat\n",
    "df_mechelen_semester_missing = df_mechelen[\n",
    "    (df_mechelen[\"periode_type\"] == \"Semester\") & \n",
    "    (df_mechelen[['Prijs_25e_Percentiel', 'Prijs_50e_Percentiel', 'Prijs_75e_Percentiel']].isnull().any(axis=1))\n",
    "]\n",
    "\n",
    "#Verwijder deze resterende onvolledige semester-rijen uit de dataset\n",
    "df_mechelen= df_mechelen.drop(df_mechelen_semester_missing.index)\n",
    "\n",
    "#opnieuw controle op de missing values\n",
    "missing_values_after = missing_per_periode_type(df_mechelen)\n",
    "print(\"Aantal overgebleven missende waarden per periode type na verwijderen:\")\n",
    "print(missing_values_after)\n",
    "\n",
    "\n",
    "\n",
    "\n",
    "\n",
    "\n",
    "\n",
    "\n",
    "\n",
    "\n",
    "\n"
   ]
  },
  {
   "cell_type": "markdown",
   "id": "cdadbde3-3c58-4f32-9618-6d013b784081",
   "metadata": {},
   "source": [
    "**Invullen van ontbrekende kwartaalwaarden**\n",
    "\n",
    "De ontbrekende kwartaalwaarden (Q1, Q2, Q3 en Q4) werden aangevuld op basis van de bijhorende semesterwaarden (S1 en S2).\n",
    "\n",
    "Aangezien het gaat om mediaanprijzen per periode, heb ik ervoor gekozen om de waarde van het semester rechtstreeks toe te wijzen aan de bijhorende kwartalen.\n",
    "\n",
    "De mediaanprijs van een semester is de prijs die in het midden ligt van alle verkopen in die 6 maanden.\n",
    "\n",
    "We weten niet wat de exacte mediaanprijs was in elk kwartaal apart (Q1 en Q2), dus gebruiken we de mediaan van het volledige semester als een schatting.\n"
   ]
  },
  {
   "cell_type": "code",
   "execution_count": null,
   "id": "4884c57c",
   "metadata": {},
   "outputs": [],
   "source": [
    "#Kolommen die we willen invullen\n",
    "kolommen = ['Prijs_25e_Percentiel', 'Prijs_50e_Percentiel', 'Prijs_75e_Percentiel']\n",
    "\n",
    "#Vul Q1 en Q2 in met S1 (als die bestaat)\n",
    "for col in kolommen:\n",
    "    df_mechelen.loc[df_mechelen['Periode'].isin(['Q1', 'Q2']), col] = df_mechelen.groupby(['Naam_NL', 'Jaar', 'Woningtype_NL'])[col].transform(\n",
    "        lambda x: x.fillna(x[df_mechelen['Periode'] == 'S1'].values[0]) if len(x[df_mechelen['Periode'] == 'S1'].values) > 0 else x\n",
    "    )\n",
    "\n",
    "#Vul Q3 en Q4 in met S2 (als die bestaat)\n",
    "for col in kolommen:\n",
    "    df_mechelen.loc[df_mechelen['Periode'].isin(['Q3', 'Q4']), col] = df_mechelen.groupby(['Naam_NL', 'Jaar', 'Woningtype_NL'])[col].transform(\n",
    "        lambda x: x.fillna(x[df_mechelen['Periode'] == 'S2'].values[0]) if len(x[df_mechelen['Periode'] == 'S2'].values) > 0 else x\n",
    "    )\n",
    "\n",
    "#Controleer of er nog missende waarden overblijven\n",
    "missing_values_after = df_mechelen[kolommen].isnull().sum()\n",
    "print(\"Aantal overgebleven missende waarden per kolom na invullen:\")\n",
    "print(missing_values_after)\n",
    "\n",
    "\n"
   ]
  },
  {
   "cell_type": "markdown",
   "id": "b1aaca29-76ab-4767-91e8-ae3b9caf5e60",
   "metadata": {},
   "source": [
    "**De 14 rijen met missende waardes verwijderen**\n",
    "\n",
    "Ik verwijder eerst alle rijen met jaar 2024 en periode Q4 want we zagen eerder dat die volledig nul was.\n",
    "\n",
    "vervolgens controleer ik weer de rijen met missende waardes. Dit zijn er nog steeds 14.\n",
    "\n",
    "Ik verwijder deze volledig uit de dataframe."
   ]
  },
  {
   "cell_type": "code",
   "execution_count": null,
   "id": "c769ec6e",
   "metadata": {},
   "outputs": [],
   "source": [
    "#Verwijder alleen de rijen waar 'Jaar' 2024 is en 'Periode' Q4\n",
    "df_mechelen = df_mechelen[~((df_mechelen['Jaar'] == 2024) & (df_mechelen['Periode'] == 'Q4'))]\n",
    "\n",
    "#Controleer hoeveel rijen er nog steeds missende waarden hebben\n",
    "df_missing = df_mechelen[df_mechelen[['Prijs_25e_Percentiel', 'Prijs_50e_Percentiel', 'Prijs_75e_Percentiel']].isnull().any(axis=1)]\n",
    "\n",
    "display(df_missing)"
   ]
  },
  {
   "cell_type": "markdown",
   "id": "c41541c8-ecd4-4bf1-9148-e6dbce9c674c",
   "metadata": {},
   "source": [
    "**Verwijder rijen uit 2024 die nog missende waardes bevatten (14)**"
   ]
  },
  {
   "cell_type": "code",
   "execution_count": null,
   "id": "f81d83a4",
   "metadata": {},
   "outputs": [],
   "source": [
    "#Verwijder rijen uit 2024 die nog missende waarden bevatten\n",
    "df_mechelen = df_mechelen.dropna(subset=['Prijs_25e_Percentiel', 'Prijs_50e_Percentiel', 'Prijs_75e_Percentiel'])\n",
    "\n",
    "#Controleer of er nog missende waarden overblijven\n",
    "missing_values_after = df_mechelen[['Prijs_25e_Percentiel', 'Prijs_50e_Percentiel', 'Prijs_75e_Percentiel']].isnull().sum()\n",
    "print(\"Aantal overgebleven missende waarden per kolom na verwijderen probleemrijen:\")\n",
    "print(missing_values_after)\n"
   ]
  },
  {
   "cell_type": "markdown",
   "id": "b30649ee-cc67-4a84-ae59-3625d12665af",
   "metadata": {},
   "source": [
    "**Controle na het verwijderen**"
   ]
  },
  {
   "cell_type": "code",
   "execution_count": null,
   "id": "a284cbe9",
   "metadata": {},
   "outputs": [],
   "source": [
    "#Tel het aantal missende waarden per kolom in de volledige dataset\n",
    "missing_values_final = df_mechelen.isnull().sum()\n",
    "\n",
    "#Filter alleen de kolommen waar nog missende waarden zijn\n",
    "missing_values_final = missing_values_final[missing_values_final > 0]\n",
    "\n",
    "#Resultaat weergeven\n",
    "if missing_values_final.empty:\n",
    "    print(\"Er zijn geen missende waarden meer in de dataset!\")\n",
    "else:\n",
    "    print(\"Er zijn nog steeds missende waarden in de volgende kolommen:\")\n",
    "    print(missing_values_final)"
   ]
  },
  {
   "cell_type": "markdown",
   "id": "6836cacf-01ce-41a1-8f15-5d48656dc3b0",
   "metadata": {},
   "source": [
    "**Ik filter de dataset op de 3 woningtypes die van belang zijn voor analyse**"
   ]
  },
  {
   "cell_type": "code",
   "execution_count": null,
   "id": "bdc79029-1598-401b-af06-14c1a52ba393",
   "metadata": {},
   "outputs": [],
   "source": [
    "df_mechelen_clean = df_mechelen[df_mechelen['Woningtype_NL'] != 'Alle huizen met 2, 3, 4 of meer gevels (excl. appartementen)']\n"
   ]
  },
  {
   "cell_type": "markdown",
   "id": "d772c75b-1198-4956-90f3-25f2f23fccde",
   "metadata": {},
   "source": [
    "**Eerste algemeen plot om +- na te gaan dat de data goed is opgeschoond**"
   ]
  },
  {
   "cell_type": "code",
   "execution_count": null,
   "id": "294a0463",
   "metadata": {},
   "outputs": [],
   "source": [
    "#Groepeer de dataset per jaar en woningtype, neem het gemiddelde van de mediaanprijzen\n",
    "df_mechelen_jaar = df_mechelen_clean[df_mechelen_clean['periode_type'] == 'Jaar']\n",
    "df_plot = df_mechelen_jaar.groupby(['Jaar', 'Woningtype_NL'])['Prijs_50e_Percentiel'].mean().reset_index()\n",
    "\n",
    "#Maak een figuur\n",
    "fig, ax = plt.subplots(figsize=(20, 10))\n",
    "\n",
    "#Lijnplot voor elk woningtype\n",
    "for woningtype in df_plot['Woningtype_NL'].unique():\n",
    "    subset = df_plot[df_plot['Woningtype_NL'] == woningtype]\n",
    "    ax.plot(subset['Jaar'], subset['Prijs_50e_Percentiel'], marker='o', linestyle='-', label=woningtype)\n",
    "    \n",
    "    #Voeg labels toe boven elke marker\n",
    "    for x, y in zip(subset['Jaar'], subset['Prijs_50e_Percentiel']):\n",
    "        ax.text(x, y, f\"{int(y)}\", ha='center', va='bottom', fontsize=15, color='black')\n",
    "\n",
    "\n",
    "ax.set_xlabel(\"Jaar\")\n",
    "ax.set_ylabel(\"Gemiddelde Mediaanprijs (€)\")\n",
    "ax.set_title(\"Gemiddelde Mediaanprijs per Woningtype per Jaar\")\n",
    "ax.set_xticks(sorted(df_plot['Jaar'].unique()))  #Enkel hele jaartallen\n",
    "ax.grid(True)\n",
    "ax.legend(title=\"Woningtype\", loc='upper left', bbox_to_anchor=(1.02, 1))\n",
    "plt.savefig('plots/lijnplot Gemiddelde Mediaanprijs per Woningtype per Jaar', dpi=300, bbox_inches='tight')\n",
    "plt.show()\n",
    "\n"
   ]
  },
  {
   "cell_type": "markdown",
   "id": "8d9b61ce-83cc-4175-9141-87fc94b1a47b",
   "metadata": {},
   "source": [
    "**Controle op outliers na opschoning**\n",
    "\n",
    "Na de opschoning van de dataset via forward en backward fill binnen combinatie van jaar, woningtype en gemeente, controleer ik opnieuw de outliers.\n",
    "\n",
    "ik bekijk de shape van de outliers via de functie check_outliers, om te bepalen hoeveel rijen nog als uitschieter worden beschouwd.\n",
    "\n",
    "Na de opschoning bleven er nog slechts 2 rijen over die als outlier werden gedetecteerd op de kolom Prijs_50e_Percentiel.\n",
    "\n",
    "De conclusie is dat de resterende outliers realistisch en representatief zijn voor uitzonderlijke maar legitieme woningprijzen (bv. luxewoningen, grote panden, nieuwbouw). Daarom heb ik deze behouden in de dataset.\n",
    "\n",
    "Onderstaande boxplots tonen ter vergelijking de verdeling van Prijs_50e_Percentiel voor en na opschoning, wat duidelijk het effect van de datacleaning illustreert.\n",
    "\n"
   ]
  },
  {
   "cell_type": "code",
   "execution_count": null,
   "id": "19c7d692-9091-4090-a147-d4b3e0416d62",
   "metadata": {},
   "outputs": [],
   "source": [
    "print(check_outliers(df_mechelen_clean, 'Prijs_25e_Percentiel').shape)\n",
    "print(check_outliers(df_mechelen_clean, 'Prijs_50e_Percentiel').shape)\n",
    "print(check_outliers(df_mechelen_clean, 'Prijs_75e_Percentiel').shape)\n",
    "\n"
   ]
  },
  {
   "cell_type": "code",
   "execution_count": null,
   "id": "2dd7be6a-63a1-434e-b24b-c214d84e7f4f",
   "metadata": {},
   "outputs": [],
   "source": [
    "create_boxplot(df,'Prijs_50e_Percentiel')"
   ]
  },
  {
   "cell_type": "code",
   "execution_count": null,
   "id": "8a69379e-1d5c-45f4-a454-4ad5bffa41ac",
   "metadata": {},
   "outputs": [],
   "source": [
    "create_boxplot(df_mechelen_clean,'Prijs_50e_Percentiel')"
   ]
  },
  {
   "cell_type": "markdown",
   "id": "8a5304d9-683f-4502-b9c2-464ccb60cc11",
   "metadata": {},
   "source": [
    "**Plot om de evolutie van de gemiddelde mediaanprijzen (Prijs_50e_Percentiel) per woningtype over de jaren te visualiseren.**\n",
    "\n",
    "Ik heb reeds een dataframe df_plot, waarin reeds per jaar en per woningtype het gemiddelde van de kolom Prijs_50e_Percentiel is berekend.\n",
    "\n",
    "Sorteren van df_plot op Woningtype_NL en Jaar\n",
    "\n",
    "Ik voeg een nieuwe kolom YOY toe met de procentuele evolutie per woningtype, berekend op het gemiddelde van de Prijs_50e_Percentiel\n",
    "\n",
    "Deze YOY-berekening toont hoe sterk de gemiddelde mediaanprijzen per woningtype zijn gestegen of gedaald ten opzichte van het voorgaande jaar.\n"
   ]
  },
  {
   "cell_type": "code",
   "execution_count": null,
   "id": "593b3c44-91cb-4b53-9546-828b8b1a15cf",
   "metadata": {},
   "outputs": [],
   "source": [
    "df_sorted_per_woningtype_jaar = df_plot.sort_values(['Woningtype_NL', 'Jaar']).reset_index(drop = True)\n",
    "df_sorted_per_woningtype_jaar['YOY'] = (df_sorted_per_woningtype_jaar.groupby('Woningtype_NL')['Prijs_50e_Percentiel'].pct_change()*100).round(2)\n",
    "df_sorted_per_woningtype_jaar['YOY_verschil'] = df_sorted_per_woningtype_jaar.groupby('Woningtype_NL')['YOY'].diff().round(2)\n",
    "df_sorted_per_woningtype_jaar"
   ]
  },
  {
   "cell_type": "markdown",
   "id": "06419519-958e-422b-aad7-c632f955b8bd",
   "metadata": {},
   "source": [
    "**Plot Hoe snel stijgt of daalt de gemiddelde mediaanprijs van elk woningtype per jaar?**\n",
    "\n",
    "Hoeveel % stijgt of daalt de gemiddelde Prijs_50e_Percentiel per woningtype t.o.v. het vorige jaar?\n",
    "\n",
    "Appartementen tonen een sterk wisselend verloop:\n",
    "een forse daling in 2021, herstel in 2022, en opnieuw daling in 2023.\n",
    "\n",
    "Huizen met 2 of 3 gevels zijn het meest stabiel:\n",
    "geen extreme uitschieters, enkel kleine fluctuaties.\n",
    "\n",
    "Huizen met 4 of meer gevels (open bebouwing) kenden eerst een stijging, maar sinds 2022 twee jaar op rij daling, met in 2023 een daling van 9,38%.\n",
    "\n",
    "\n",
    "\n"
   ]
  },
  {
   "cell_type": "code",
   "execution_count": null,
   "id": "38294481-1011-44c9-a9f2-1bde3d4c3b61",
   "metadata": {},
   "outputs": [],
   "source": [
    "fig, ax = plt.subplots(figsize=(20, 10))\n",
    "\n",
    "kleuren = {}\n",
    "#Voor elke woningtype + groep van jaren\n",
    "for woningtype, groep in df_sorted_per_woningtype_jaar.groupby('Woningtype_NL'):\n",
    "    #verwijder de nan_waarden want voor 2019 zijn er geen waardes YOY\n",
    "    groep = groep.dropna(subset=['YOY'])\n",
    "    #Plot een lijn voor dit woningtype en bewaar het lijnobject om de kleur later te kunnen gebruiken (unpacking door gebruik van ,)\n",
    "    lijn, = ax.plot(groep['Jaar'], groep['YOY'], marker='o', label=woningtype)\n",
    "    #haal de kleur op per lijn om later te gebruiken\n",
    "    kleur = lijn.get_color()\n",
    "    kleuren[woningtype] = kleur\n",
    "    \n",
    "    #voor elke index en rij in groep (df met alle jaren voor een woningtype)\n",
    "    #itterrows gaat door elke rij in de df en geeft een tuple terug van index en de rij zelf als een series opbject\n",
    "    for i, row in groep.iterrows():\n",
    "        #maak een label met yoy%\n",
    "        label = f\"{row['YOY']}%\"\n",
    "        #haal het verschil tov PY op\n",
    "        yoy_verschil = row['YOY_verschil']\n",
    "        #als yoy_verschil niet nul is positief symbool als yoy_verschil positief is, negatief symbool als yoy_verschil negatief is\n",
    "        if pd.notna(yoy_verschil):\n",
    "            symbool = '↑' if yoy_verschil > 0 else '↓'\n",
    "            #Voeg het symbool en de absolute waarde van het verschil toe op een nieuwe regel. het symbool geeft de richting al aan vandaar absolute waarde\n",
    "            label += f\"\\n{symbool} {abs(yoy_verschil)}%\"\n",
    "        #Bepaal of de tekst links of rechts uitgelijnd wordt, afhankelijk van even/oneven jaartal\n",
    "        ha = 'left' if row['Jaar'] % 2 == 0 else 'right'\n",
    "        #Zet de tekst op de plot, iets boven het punt op de lijn\n",
    "        ax.text(\n",
    "            row['Jaar'],\n",
    "            row['YOY'] + 0.5,\n",
    "            label,\n",
    "            fontsize=12,\n",
    "            color = kleur,\n",
    "            ha=ha,\n",
    "            va='top'\n",
    "        )\n",
    "\n",
    "        \n",
    "#teken een nullijn\n",
    "ax.axhline(0, color='grey', linestyle='--', linewidth=1)\n",
    "\n",
    "#Titel en as-labels instellen\n",
    "ax.set_title('Jaarlijkse YOY% evolutie in gemiddelde Prijs_50e_Percentiel per woningtype')\n",
    "ax.set_xlabel('Jaar')\n",
    "ax.set_ylabel('Evolutie t.o.v. vorig jaar (%)')\n",
    "\n",
    "#Bepaal de unieke jaartallen waarvoor er een YOY-waarde bestaat\n",
    "jaren_met_yoy = df_sorted_per_woningtype_jaar.dropna(subset=['YOY'])['Jaar'].unique()\n",
    "#Gebruik die waardes als x_ticks\n",
    "ax.set_xticks(sorted(jaren_met_yoy))\n",
    "\n",
    "#toon een grid in de figuur\n",
    "ax.grid(True)\n",
    "#Maak een legende\n",
    "ax.legend(title='Woningtype')\n",
    "#spelen met de y_as voor leesbaarheid\n",
    "ax.set_ylim(-4, 12)\n",
    "#layout\n",
    "plt.tight_layout()\n",
    "ax.title.set_fontsize(16)\n",
    "ax.xaxis.label.set_fontsize(14)\n",
    "ax.yaxis.label.set_fontsize(14)\n",
    "ax.tick_params(axis='both', labelsize=12)\n",
    "ax.legend(title='Woningtype', fontsize=12, title_fontsize=13)\n",
    "plt.savefig('plots/lijnplot Jaarlijkse YOY evolutie in gemiddelde Prijs_50e_Percentiel per woningtype', dpi=300, bbox_inches='tight')\n",
    "plt.show()\n",
    "\n",
    "\n",
    "\n"
   ]
  },
  {
   "cell_type": "markdown",
   "id": "42944364-bf91-4007-b0a1-369ff7b3371b",
   "metadata": {},
   "source": [
    "**YOY-analyse voor meerdere prijspercentielen tegelijk**\n",
    "\n",
    "Doel: Eenzelfde YOY-plot maken, maar voor de drie prijspercentielen tegelijk (25e, 50e, 75e percentiel).\n",
    "\n",
    "Eerst een df maken met het gemiddelde per jaar en woningtype voor de drie prijspercentielen.\n",
    "\n",
    "Daarna bereken ik voor elk van de drie kolommen:\n",
    "\n",
    "De YOY (Year-over-Year) procentuele verandering per woningtype\n",
    "\n",
    "Het verschil in YOY ten opzichte van het vorige jaar\n",
    "\n",
    "**Conclusie**\n",
    "\n",
    "De jaarlijkse prijsverandering (YOY) laat duidelijke verschillen zien tussen woningtypes en prijscategorieën:\n",
    "\n",
    "Appartementen (blauw) tonen opvallende prijsschommelingen, vooral in de lagere percentielen (25e & 50e). In deze segmenten zie je sterke opwaartse én neerwaartse bewegingen, wat wijst op een hogere volatiliteit.\n",
    "\n",
    "Open bebouwing (groen) kende tussen 2020 en 2022 steile prijsstijgingen, maar daalde in 2023 fors in het 25e en 50e percentiel. Ook hier is veel dynamiek zichtbaar, vooral aan de onder- en middenkant van de markt.\n",
    "\n",
    "Gesloten en halfopen bebouwing (oranje) volgt een gelijkaardig, iets gematigder patroon, maar ook hier is de prijs in 2023 sterk teruggevallen in het 25e percentiel.\n",
    "\n",
    "Het 75e percentiel toont in alle woningtypes de kleinste prijsschommelingen over de jaren heen. Dit suggereert dat de duurdere segmenten relatief stabieler zijn dan goedkopere woningen."
   ]
  },
  {
   "cell_type": "code",
   "execution_count": null,
   "id": "cd49ead3-0eeb-4ea8-a042-597f6c0f2cfb",
   "metadata": {},
   "outputs": [],
   "source": [
    "df_mechelen_mean = df_mechelen_jaar.groupby(['Jaar', 'Woningtype_NL'])[['Prijs_25e_Percentiel','Prijs_50e_Percentiel','Prijs_75e_Percentiel']].mean().reset_index()\n",
    "df_yoy = df_mechelen_mean.copy()\n",
    "for kolom in ['Prijs_25e_Percentiel', 'Prijs_50e_Percentiel', 'Prijs_75e_Percentiel']:\n",
    "    df_yoy[f'YOY_{kolom}'] = df_yoy.groupby('Woningtype_NL')[kolom].pct_change() * 100\n",
    "    df_yoy[f'YOY_{kolom}'] = df_yoy[f'YOY_{kolom}'].round(2)\n",
    "    df_yoy[f'YOY_verschil_{kolom}'] = df_yoy.groupby('Woningtype_NL')[f'YOY_{kolom}'].diff().round(2)\n",
    "df_yoy\n",
    "    "
   ]
  },
  {
   "cell_type": "markdown",
   "id": "b8db5b04-84bc-4d85-a688-540265cf59d5",
   "metadata": {},
   "source": [
    "**Lijnplot evolutie gemiddelde mediaanprijs per jaar voor de drie prijspercentielen**\n",
    "\n",
    "Ik maak een functie om het lijnplot met de evolutie over de jaren weer te geven voor de 3 prijspercentielen."
   ]
  },
  {
   "cell_type": "code",
   "execution_count": null,
   "id": "fe9d8502-5687-46ad-bb6c-9284acbe4384",
   "metadata": {},
   "outputs": [],
   "source": [
    "def plot_yoy_alle_percentielen(df_yoy):\n",
    "    prijskolommen = ['Prijs_25e_Percentiel', 'Prijs_50e_Percentiel', 'Prijs_75e_Percentiel']\n",
    "    titels = ['25e percentiel', '50e percentiel (mediaan)', '75e percentiel']\n",
    "    #maak een raster met 3 subplots, 3 rijen 1 kolom\n",
    "    fig, axs = plt.subplots(3, 1, figsize=(14, 18))\n",
    "    #voor elke index en prijspercentiel (25e, 50e, 75e) in prijskolommen\n",
    "    for i, kolom in enumerate(prijskolommen):\n",
    "        #bepaal de ax die je gaat gebruiken (ax = nummer index)\n",
    "        ax = axs[i]\n",
    "        #Maak de naam van de kolom om deze automatisch te kunnen selecteren. Dit zodat ik in 1 functie de 3 plots kan maken\n",
    "        #En niet elk prijspercentiel apart moet aanroepen\n",
    "        kol_yoy = f'YOY_{kolom}'\n",
    "\n",
    "        #voor elk woningtype + groep van jaren\n",
    "        for woningtype, groep in df_yoy.groupby('Woningtype_NL'):\n",
    "            #verwijder jaren waarvoor geen waardes zijn (2019)\n",
    "            groep = groep.dropna(subset=[kol_yoy])\n",
    "            #Plot een lijn voor dit woningtype en bewaar het lijnobject om de kleur later te kunnen gebruiken (unpacking door gebruik van ,)\n",
    "            lijn, = ax.plot(groep['Jaar'], groep[kol_yoy], marker='o', label=woningtype, color=kleuren.get(woningtype))\n",
    "            #consistent kleurgebruik\n",
    "            # kleuren['woningtype'] = kleur\n",
    "\n",
    "        #Maak een nul-lijn\n",
    "        ax.axhline(0, color='grey', linestyle='--', linewidth=1)\n",
    "        #titels en assen instellen\n",
    "        ax.set_title(f'Jaarlijkse % evolutie – {titels[i]}', fontsize=16, fontweight='bold')\n",
    "        ax.set_ylabel('YoY (%)', fontsize=13)\n",
    "        #schaal van de y-as voor de 3 plots gelijk maken\n",
    "        ax.set_ylim(-6, 16)\n",
    "        #Bepaal de unieke jaartallen waarvoor er een YOY-waarde bestaat\n",
    "        jaren_met_yoy = df_yoy.dropna(subset= kol_yoy)['Jaar'].unique()\n",
    "        #Gebruik die waardes als x_ticks zodat hij geen halve jaren weergeeft\n",
    "        ax.set_xticks(sorted(jaren_met_yoy))\n",
    "        ax.grid(True)\n",
    "        ax.tick_params(axis='both', labelsize=12)\n",
    "\n",
    "    #zet 1 label jaar op de x as van de laaste plot voor de 3 plots\n",
    "    axs[-1].set_xlabel('Jaar', fontsize=13)\n",
    "    #zet de legende rechts bovenaan\n",
    "    axs[0].legend(title='Woningtype', bbox_to_anchor=(1.02, 1), loc='upper left', fontsize=11, title_fontsize=12)\n",
    "\n",
    "    plt.tight_layout()\n",
    "    plt.savefig('plots/lijnplots jaarlijkse evolutie alle percentielen.png', dpi=300, bbox_inches='tight')\n",
    "    plt.show()\n",
    "\n",
    "\n",
    "plot_yoy_alle_percentielen(df_yoy)"
   ]
  },
  {
   "cell_type": "markdown",
   "id": "1759b3a1-704b-4c60-a651-18b61734a520",
   "metadata": {},
   "source": [
    "**Zelfde informatie in een barplot voor Prijs_50e_Percentiel**"
   ]
  },
  {
   "cell_type": "code",
   "execution_count": null,
   "id": "eb9d5881-d812-4ff3-96eb-9d9b2e897b8b",
   "metadata": {},
   "outputs": [],
   "source": [
    "#Haal de unieke woningtypes op uit de kolom 'Woningtype_NL'\n",
    "woningtypes = df_sorted_per_woningtype_jaar['Woningtype_NL'].unique()\n",
    "#Maak een 1x3 raster van 3 lege grafieken met gedeelde y-as\n",
    "fig, axs = plt.subplots(1, 3, figsize=(18, 5), sharey=True)\n",
    "\n",
    "\n",
    "#Loop over elke index en elk woningtype\n",
    "for i, woningtype in enumerate(woningtypes):\n",
    "    #Kies de subplot die overeenkomt met de index\n",
    "    ax = axs[i]\n",
    "    #filter de data voor het juiste woningtype\n",
    "    data = df_sorted_per_woningtype_jaar[df_sorted_per_woningtype_jaar['Woningtype_NL'] == woningtype]\n",
    "    \n",
    "    #maak de barplots en verzamel de bars in een lijst\n",
    "    bars = ax.bar(data['Jaar'], data['YOY'], color=kleuren[woningtype])\n",
    "    \n",
    "    #combineer elke bar met de juiste rij in data met zip\n",
    "    for bar, (_, row) in zip(bars, data.iterrows()):\n",
    "        #haal de hoogte op van de rij\n",
    "        hoogte = row['YOY']\n",
    "        #maak een label met de waarde van YOY%\n",
    "        label = f\"{row['YOY']}%\"\n",
    "        #als het yoy_verschil niet nul is positief symbool als yoy_vershil > 0, negatief symbool als yoy_verschil < 0\n",
    "        if pd.notna(row['YOY_verschil']):\n",
    "            symbool = '↑' if row['YOY_verschil'] > 0 else '↓'\n",
    "            #Voeg het symbool en de absolute waarde van het verschil toe op een nieuwe regel. het symbool geeft de richting al aan vandaar absolute waarde\n",
    "            label += f\"\\n{symbool} {abs(row['YOY_verschil']):.2f}%\"\n",
    "        #label plaatsen \n",
    "        ax.text(\n",
    "            #zet het label in het midden van de balk\n",
    "            bar.get_x() + bar.get_width() / 2,\n",
    "            #zet het label halverwege de hoogte van de balk\n",
    "            hoogte / 2,\n",
    "            label,\n",
    "            #Horizontaal en verticaal gecentreerd\n",
    "            ha='center',\n",
    "            va='center',\n",
    "            fontsize=9,\n",
    "            color='black'\n",
    "        )\n",
    "    #teken een nullijn\n",
    "    ax.axhline(0, color='grey', linestyle='--', linewidth=1)\n",
    "    #Titel en as-labels instellen\n",
    "    ax.set_title(woningtype, fontsize=11)\n",
    "    ax.set_xlabel(\"Jaar\")\n",
    "    #zet het Ylabel enkel aan de linkerkant\n",
    "    if i % 2 == 0:\n",
    "        ax.set_ylabel(\"YOY (%)\")\n",
    "    ax.set_xticks(data['Jaar'])\n",
    "#hoofdtitel\n",
    "fig.suptitle(\"Procentuele verandering (YOY) in Prijs_50e_Percentiel per woningtype\", fontsize=14)\n",
    "#Optimaliseer de layout en laat bovenaan wat ruimte voor de hoofdtitel\n",
    "#rect = [left, bottom, right, top] → 0 = begin figuur, 1 = einde figuur\n",
    "#Top = 0.96 → laat 4% ruimte bovenaan\n",
    "plt.tight_layout(rect=[0, 0, 1, 0.96])\n",
    "plt.savefig('plots/barplot procentuele verandering (YOY) in Prijs_50e_Percentiel per woningtype', dpi=300, bbox_inches='tight')\n",
    "plt.show()\n",
    "\n",
    "\n"
   ]
  },
  {
   "cell_type": "markdown",
   "id": "ce4814e7-4679-4a74-9727-78f7c150939f",
   "metadata": {},
   "source": [
    "**Plot: YOY-verandering in 25e, 50e en 75e percentiel per woningtype**\n",
    "\n",
    "Ik zet het voorgaande plot om in een functie, zodat ik automatisch dit type visualisatie kan genereren voor elk van de drie prijspercentielen."
   ]
  },
  {
   "cell_type": "code",
   "execution_count": null,
   "id": "1e9972bc-25e4-444d-92a6-f1b1c9a51889",
   "metadata": {},
   "outputs": [],
   "source": [
    "def plot_yoy_bars_alle_percentielen_per_woningtype(df, kleuren):\n",
    "    prijskolommen = ['Prijs_25e_Percentiel', 'Prijs_50e_Percentiel', 'Prijs_75e_Percentiel']\n",
    "    titels = ['25e percentiel', '50e percentiel (mediaan)', '75e percentiel']\n",
    "    woningtypes = df['Woningtype_NL'].unique()\n",
    "\n",
    "    #Voor elke index en bijhorende waarde uit de lijst prijskolommen\n",
    "    for i, kolom in enumerate(prijskolommen):\n",
    "        #maak de naam van kolom yoy om later aan te roepen\n",
    "        kol_yoy = f'YOY_{kolom}'\n",
    "        #Maak de naam van kolom yoy_verschil om later aan te roepen. Dit zodat ik in 1 functie de 3 plots kan maken\n",
    "        #En niet elk prijspercentiel apart moet aanroepen\n",
    "        kol_yoy_verschil = f'YOY_verschil_{kolom}'\n",
    "\n",
    "        #maak een raster van 1 rij en 3 kolommen voor de plots, deze delen een y-as\n",
    "        fig, axs = plt.subplots(1, 3, figsize=(20, 6), sharey=True)\n",
    "\n",
    "        #Voor elke index en woningtype in de lijst woningtypes\n",
    "        for j, woningtype in enumerate(woningtypes):\n",
    "            #Kies het plot waarop je data wilt plaatsen\n",
    "            ax = axs[j]\n",
    "            #selecteer de juiste data uit df aan de hand van het woningtype\n",
    "            data = df[df['Woningtype_NL'] == woningtype]\n",
    "            #sla de bars op als een object in een list bars\n",
    "            bars = ax.bar(data['Jaar'],data[kol_yoy],color=kleuren[woningtype])\n",
    "\n",
    "             #combineer elke bar met de juiste rij in data met zip\n",
    "            for bar, (_, row) in zip(bars, data.iterrows()):\n",
    "                #Haal de hoogte op van de rij\n",
    "                hoogte = row[kol_yoy]\n",
    "                #Maak een label met de waarde van YOY\n",
    "                label = f\"{hoogte:.2f}%\"\n",
    "                #als het yoy_verschil niet nul is positief symbool als yoy_vershil > 0, negatief symbool als yoy_verschil < 0\n",
    "                if pd.notna(row[kol_yoy_verschil]):\n",
    "                    symbool = '↑' if row[kol_yoy_verschil] > 0 else '↓'\n",
    "                    #Voeg het symbool en de absolute waarde van het verschil toe op een nieuwe regel. het symbool geeft de richting al aan vandaar absolute waarde\n",
    "                    label += f\"\\n{symbool} {abs(row[kol_yoy_verschil]):.2f}%\"\n",
    "                #Voeg het label toe in het midden van de staaf\n",
    "                ax.text(\n",
    "                    bar.get_x() + bar.get_width() / 2,\n",
    "                    hoogte / 2,\n",
    "                    label,\n",
    "                    ha='center',\n",
    "                    va='center',\n",
    "                    fontsize=9,\n",
    "                    color='black'\n",
    "                )\n",
    "            #maak een nullijn    \n",
    "            ax.axhline(0, color='grey', linestyle='--', linewidth=1)\n",
    "            #Titels en assen instellen\n",
    "            ax.set_title(woningtype, fontsize=12)\n",
    "            ax.set_xlabel(\"Jaar\")\n",
    "            ax.set_xticks(data['Jaar'])\n",
    "            #Enkel aan de linkerkant het label YOY(%) plaatsen\n",
    "            if j == 0:\n",
    "                ax.set_ylabel(\"YOY (%)\")\n",
    "                \n",
    "            ax.grid(True, axis='y', linestyle=':')\n",
    "        #Zet een hoofdtitel boven de volledige figuur, afhankelijk van het percentiel\n",
    "        fig.suptitle(f\"Procentuele verandering (YOY) in {titels[i]} per woningtype\",fontsize=15)\n",
    "        plt.tight_layout(rect=[0, 0, 1, 0.94])\n",
    "        plt.savefig(f'plots/barplot_YOY_{kolom}.png', dpi=300, bbox_inches='tight')\n",
    "        plt.show()\n",
    "\n",
    "plot_yoy_bars_alle_percentielen_per_woningtype(df_yoy, kleuren)"
   ]
  },
  {
   "cell_type": "markdown",
   "id": "f0a4e6c3-5664-40c8-a44d-a2185994ea05",
   "metadata": {},
   "source": [
    "**PLot per gemeente yoy-verandering in Prijs_50e_Percentiel tussen Q3 2024 en Q3 2023.**\n",
    "\n",
    "Ik wil gaan kijken per gemeente wat de yoy verandering is in de mediaan prijs per gemeente.\n",
    "\n",
    "Ik wil daarbij naar de meeste recente data kijken want die is het meest actueel maar voor Q4 in 2024 hadden we geen waardes en deze rijen zijn gewist uit de dataset.\n",
    "\n",
    "Daarom kies ik ervoor om de waardes van Q3 2024 te gaan vergelijken met Q3 2023. \n",
    "\n",
    "**Conclusie**\n",
    "\n",
    "Gesloten + halfopen bebouwing (oranje):\n",
    "\n",
    "Sterke prijsstijgingen in sommige gemeenten:\n",
    "\n",
    "- Duffel +30.83%, Bornem +23.67%, Putte +12.94%\n",
    "\n",
    "Sterke dalingen:\n",
    "\n",
    "- Nijlen -17.93%, Mechelen -9.85%\n",
    "\n",
    "Zeer grote verschillen tussen gemeenten, wat op een hoge volatiliteit wijst voor dit woningtype.\n",
    "\n",
    "Open bebouwing (groen):\n",
    "Grote negatieve veranderingen in:\n",
    "\n",
    "- Puurs-Sint-Amands -21.66%, Sint-Katelijne-Waver -21.57%\n",
    "\n",
    "Sterke stijgingen elders:\n",
    "\n",
    "- Putte +22.65%, Bonheiden +10.42%\n",
    "\n",
    "Dit woningtype toont extreme regionale verschillen met een aantal heel sterke uitschieters.\n",
    "\n",
    "Appartementen (blauw):\n",
    "\n",
    "Wisselend beeld:\n",
    "\n",
    "- Sterke stijging in Willebroek +15.69%\n",
    "\n",
    "- Daling in Mechelen -16.39%, Bornem -10.16%\n",
    "\n",
    "Hier is de spreiding kleiner dan bij huizen, maar nog steeds duidelijke regionale verschillen zichtbaar. Er is ook minder data.\n",
    "\n",
    "De evolutie van woningprijzen tussen 2023 en 2024 is erg afhankelijk van locatie én woningtype.\n",
    "\n",
    "Vooral gesloten/halfopen woningen en open bebouwing tonen sterke stijgingen of dalingen, afhankelijk van de gemeente.\n",
    "\n",
    "Appartementen zijn iets minder volatiel, maar ook daar zijn duidelijke dalingen en stijgingen merkbaar."
   ]
  },
  {
   "cell_type": "code",
   "execution_count": null,
   "id": "ccb7492d-b63d-46f5-b86d-11b8f9fce931",
   "metadata": {},
   "outputs": [],
   "source": [
    "#filter de dataset op Q3 in 2023 en 2024\n",
    "df_mechelen_q3 = df_mechelen_clean[\n",
    "    (df_mechelen_clean['Periode'] == 'Q3') &\n",
    "    (df_mechelen_clean['Jaar'].isin([2023, 2024]))\n",
    "]\n",
    "\n",
    "#Groepeer per gemeente, woningtype en jaar en neem het gemiddelde van de kolom Prijs_50e_Percentiel of de mediaan\n",
    "grouped_per_gemeente = df_mechelen_q3.groupby(['Naam_NL', 'Woningtype_NL', 'Jaar'])['Prijs_50e_Percentiel'].mean().reset_index()\n",
    "\n",
    "#Maak de kolommen met YOY en YOY verschil waardes\n",
    "grouped_per_gemeente['YOY'] = (grouped_per_gemeente.groupby(['Naam_NL','Woningtype_NL'])['Prijs_50e_Percentiel'].pct_change()*100).round(2)\n",
    "grouped_per_gemeente['YOY_verschil'] = grouped_per_gemeente.groupby(['Naam_NL','Woningtype_NL'])['YOY'].diff().round(2)\n",
    "grouped_per_gemeente\n",
    "#Filter op enkel 2024\n",
    "gemeente_yoy_2024 = grouped_per_gemeente[grouped_per_gemeente['Jaar'] == 2024].copy()\n",
    "\n",
    "#bepaal de woningtypes en zet ze in een lijst\n",
    "woningtypes_gemeente = gemeente_yoy_2024['Woningtype_NL'].unique()\n",
    "#Maak een raster van 1 rij en 3 kolommen voor de plots\n",
    "fig, axs = plt.subplots(1,3, figsize = (18,5))\n",
    "\n",
    "#Voor elke index en woningtype in de  lijst woningtypes_gemeente\n",
    "for i , woningtype in enumerate(woningtypes_gemeente):\n",
    "    #Kies het plot waarop je data wilt plaatsen\n",
    "    ax = axs[i]\n",
    "    #selecteer de juiste data uit df aan de hand van het woningtype\n",
    "    data = gemeente_yoy_2024[gemeente_yoy_2024['Woningtype_NL'] == woningtype].copy()\n",
    "    #maak de barobjecten en slaag ze op in een lijst\n",
    "    bars = ax.bar(data['Naam_NL'], data['YOY'], color = kleuren[woningtype])\n",
    "    #koppel het juiste barobject aan de juiste data\n",
    "    for bar, (_, row) in zip(bars, data.iterrows()):\n",
    "        #Haal de hoogte op van de rij\n",
    "        hoogte = row['YOY']\n",
    "        #maak een label met de waarde van YOY\n",
    "        label = f\"{hoogte:+.2f}%\"  \n",
    "\n",
    "        # yoy_verschil = row['YOY_verschil']\n",
    "        # if pd.notna(yoy_verschil):\n",
    "        #     symbool = '↑' if yoy_verschil > 0 else '↓'\n",
    "        #     label += f\"\\n{symbool} {abs(yoy_verschil):.2f}%\"\n",
    "\n",
    "        \n",
    "        #Voeg het label toe in het midden van de bar\n",
    "        ax.text(\n",
    "            bar.get_x()+ bar.get_width() / 2,\n",
    "            bar.get_height() / 2,\n",
    "            label,\n",
    "            ha = 'center',\n",
    "            va = 'center',\n",
    "            fontsize = 9,\n",
    "            color = 'black')\n",
    "    #titels en assen instellen\n",
    "    ax.set_title(woningtype, fontsize = 11)\n",
    "    ax.set_xticks(range(len(data['Naam_NL'])))\n",
    "    ax.set_xticklabels(data['Naam_NL'], rotation=45, ha='right')\n",
    "    ax.set_ylabel('YOY %')\n",
    "#Plaats een subtitel boven de figuur\n",
    "fig.suptitle(\"YOY-verandering in Prijs_50e_Percentiel per gemeente (Q3_2024 t.o.v. Q3_2023)\", fontsize = 14)\n",
    "plt.savefig('plots/barplot YOY-verandering in Prijs_50e_Percentiel per gemeente (Q3_2024 t.o.v. Q3_2023).png', dpi=300, bbox_inches='tight')\n",
    "plt.tight_layout(rect = [0,0,1,0.95])\n",
    "            \n",
    "plt.show()"
   ]
  },
  {
   "cell_type": "markdown",
   "id": "b9390ed0-173c-4183-a36c-4bee153a8fc4",
   "metadata": {},
   "source": [
    "**Controle op impact van imputatie op mijn analyse**\n",
    "\n",
    "Tijdens het visualiseren van de resultaten merkte ik dat er in sommige gemeentes en woningtypes grote jaarlijkse sprongen voorkwamen. Dat deed me afvragen of de imputatie van missende waarden (via forward- en backward fill, deels op basis van semesterwaarden) de data mogelijk verstoord heeft.\n",
    "\n",
    "Om dit te controleren heb ik gefilterd op een paar specifieke gevallen waarvan ik vermoedde dat ze veel missende waarden bevatten, namelijk:\n",
    "\n",
    "Gemeentes: 'DUFFEL' en 'BORNEM'\n",
    "\n",
    "Woningtypes: 'Appartementen' en 'Huizen met 4 of meer gevels (open bebouwing)'\n",
    "\n",
    "Zo kon ik na de fill de originele en ingevulde waarden naast elkaar leggen en de impact inschatten.\n",
    "\n",
    "**Conclusie**\n",
    "\n",
    "De vergelijking toont dat sommige kwartaalwaarden volledig ontbraken en ingevuld zijn met data uit semesters. Daardoor kunnen de jaarlijkse verschillen soms overdreven zijn.\n",
    "\n",
    "Toch blijft de algemene trend per woningtype en gemeente betrouwbaar. De exacte percentages zijn dus met wat voorzichtigheid te bekijken, maar de richting en de verschillen blijven relevant voor de analyse."
   ]
  },
  {
   "cell_type": "code",
   "execution_count": null,
   "id": "30f425cf-39ba-4afa-a9e4-27077e0947bc",
   "metadata": {},
   "outputs": [],
   "source": [
    "gemeentes = ['DUFFEL', 'BORNEM']\n",
    "woningtypes = ['Appartementen', 'Huizen met 4 of meer gevels (open bebouwing)']\n",
    "not_filled = df_mechelen_no_fill[\n",
    "    (df_mechelen_no_fill['periode_type'] == 'Kwartaal') &\n",
    "    (df_mechelen_no_fill['Naam_NL'].isin(gemeentes)) &\n",
    "    (df_mechelen_no_fill['Woningtype_NL'].isin(woningtypes)) &\n",
    "    (df_mechelen_no_fill['Jaar'].between(2019, 2024))\n",
    "].copy()\n",
    "filled = df_mechelen[(df_mechelen['periode_type'] == 'Kwartaal') &\n",
    "    (df_mechelen['Naam_NL'].isin(gemeentes)) &\n",
    "    (df_mechelen['Woningtype_NL'].isin(woningtypes)) &\n",
    "    (df_mechelen['Jaar'].between(2019, 2024))\n",
    "].copy()\n",
    "#display(filled)\n",
    "\n",
    "vergelijking = not_filled.merge(\n",
    "    filled,\n",
    "    on=['Jaar', 'Periode', 'Woningtype_NL', 'Naam_NL'],\n",
    "    suffixes=('_not_filled', '_filled')\n",
    ")[['Jaar', 'Periode', 'Woningtype_NL', 'Naam_NL', 'Prijs_50e_Percentiel_not_filled', 'Prijs_50e_Percentiel_filled']]\n",
    "vergelijking"
   ]
  },
  {
   "cell_type": "markdown",
   "id": "6b843865-8b0b-40ee-9010-791523f26c78",
   "metadata": {},
   "source": [
    "**Plot Aantal transacties per woningtype per jaar**\n",
    "\n",
    "Deze visualisatie toont het aandeel van het aantal vastgoedtransacties per woningtype, gegroepeerd per jaar.\n",
    "\n",
    "Door een stacked bar chart te gebruiken, zie ik niet alleen het totaal per jaar, maar ook hoe de verhoudingen tussen woningtypes evolueren over de tijd.\n",
    "\n",
    "\n",
    "**Conclusie**\n",
    "\n",
    "- Gesloten + halfopen bebouwing (oranje):\n",
    "\n",
    "Vormt elk jaar ruim de helft van de transacties.\n",
    "\n",
    "Sterk gedaald in 2020 (corona?), daarna terug op niveau in 2022.\n",
    "\n",
    "- Appartementen (blauw):\n",
    "Stabiel aandeel van ongeveer een vijfde tot een kwart.\n",
    "\n",
    "Licht herstel sinds 2020, maar minder sterk dan bij huizen.\n",
    "\n",
    "- Open bebouwing (groen):\n",
    "Blijft redelijk stabiel, met licht dalende trend in absolute aantallen.\n",
    "\n",
    "In 2023 opnieuw lager dan in 2022.\n",
    "\n",
    "Huizen met 2 of 3 gevels zijn het populairst en vormen de ruggengraat van de markt.\n",
    "\n",
    "Appartementen blijven belangrijk, maar nemen geen duidelijk groter aandeel op.\n",
    "\n",
    "Open bebouwing wordt relatief minder vaak verkocht, mogelijk door schaarste, prijs of veranderende woonbehoeften.\n"
   ]
  },
  {
   "cell_type": "code",
   "execution_count": null,
   "id": "c6158ce7-d00c-4a2e-b541-9e3a99cf90f7",
   "metadata": {},
   "outputs": [],
   "source": [
    "#Maak een dataframe met enkel het periode type jaar omdat we volledige jaren gaan bekijken\n",
    "df_transacties = df_mechelen_clean[df_mechelen_clean['periode_type'] == 'Jaar']\n",
    "#Groepeer per jaar en woningtype, en tel het aantal transacties per combinatie op\n",
    "df_transacties_per_type = df_transacties.groupby(['Jaar', 'Woningtype_NL'])['Aantal_transacties'].sum().reset_index()\n",
    "#pivot maken om een stacked barplot te kunnen maken\n",
    "df_pivot = df_transacties_per_type.pivot(index='Jaar', columns='Woningtype_NL', values='Aantal_transacties')\n",
    "display(df_pivot)\n",
    "\n",
    "fig, ax = plt.subplots(figsize=(12, 6))\n",
    "\n",
    "#Maak een array van 0 om de onderkant van elke bar te zijn , dus evenveel 0 als bars of jaren\n",
    "#Deze array wordt per woningtype opgeteld zodat de lagen mooi op elkaar gestapeld worden\n",
    "bottom = np.zeros(len(df_pivot))\n",
    "#Maak een array met posities op de x-as, je gebruikt index om te beginnen vanaf positie 0\n",
    "x = np.arange(len(df_pivot.index))\n",
    "\n",
    "# Elke kolom (woningtype) als aparte laag stapelen\n",
    "for woningtype in df_pivot.columns:\n",
    "    #teken de bar op de x positie, met de waarde als hoogte en bottom als beginpunt\n",
    "    ax.bar(x, df_pivot[woningtype], bottom=bottom, label=woningtype)\n",
    "    #tel de waarde van het aantal transacties bij bottom zodat elke waarde boven de andere word gestapeld\n",
    "    #Op deze manier schuift elke volgende laag omhoog, op basis van wat er al onder zit\n",
    "    bottom += df_pivot[woningtype].values\n",
    "\n",
    "#Titels en as instellen\n",
    "ax.set_xticks(x)\n",
    "ax.set_xticklabels(df_pivot.index)\n",
    "ax.set_xlabel('Jaar')\n",
    "ax.set_ylabel('Aantal transacties')\n",
    "ax.set_title('Aandeel aantal transacties per woningtype per jaar')\n",
    "ax.legend(title='Woningtype', bbox_to_anchor=(1.05, 1), loc='upper left')\n",
    "plt.tight_layout()\n",
    "plt.savefig('plots/stackedbar Aandeel aantal transacties per woningtype per jaar.png',dpi=300, bbox_inches='tight')\n",
    "plt.show()\n"
   ]
  },
  {
   "cell_type": "markdown",
   "id": "f96dccfe-926e-4aca-a64d-fbdd9cf01508",
   "metadata": {},
   "source": [
    "**Plot transacties per jaar en transacties per gemeente**\n",
    "\n",
    "ik wil nagaan welke woningtypes het meest verkocht worden per jaar en per gemeente\n",
    "\n",
    "Vertrekken van df_transacties wat een dataframe is met alle rijen van het periode type jaar\n",
    "\n",
    "\n",
    "**Conclusie**\n",
    "\n",
    "- Aantal transacties per jaar (links):\n",
    "Huizen met 2 of 3 gevels (oranje) blijven duidelijk het meest verkocht.\n",
    "\n",
    "Sterke terugval in 2020.\n",
    "\n",
    "Appartementen (blauw) stijgen licht sinds 2020.\n",
    "\n",
    "Open bebouwing (groen) blijft relatief stabiel maar in kleinere aantallen.\n",
    "\n",
    "- Aantal transacties per gemeente (rechts):\n",
    "Mechelen springt eruit met veruit het grootste aantal transacties, voor alle woningtypes.\n",
    "\n",
    "Daarna volgen Lier, Willebroek en Heist-op-den-Berg.\n",
    "\n",
    "In Duffel, Bornem en Putte is het aantal transacties veel lager, maar wel gelijkmatiger verdeeld over woningtypes.\n",
    "\n",
    "Huizen met 2 of 3 gevels domineren nog steeds de markt in elk jaar en in bijna elke gemeente.\n",
    "\n",
    "De stad Mechelen vormt het hart van de vastgoedactiviteit in het arrondissement, gevolgd door enkele andere grotere gemeenten.\n",
    "\n",
    "De spreiding per gemeente toont lokale verschillen in voorkeuren of aanbod per woningtype.\n",
    "\n",
    "\n",
    "\n",
    "\n",
    "\n"
   ]
  },
  {
   "cell_type": "code",
   "execution_count": null,
   "id": "bceb0318-3da6-4c15-8e1b-a0bb289f6da8",
   "metadata": {},
   "outputs": [],
   "source": [
    "# Unieke jaren en woningtypes\n",
    "def plot_transacties_per_jaar(ax, df, kleuren):\n",
    "    #groeperen per jaar en woningtype geef de sum van het aantal transacties\n",
    "    df_transacties_per_type = df.groupby(['Jaar', 'Woningtype_NL'])['Aantal_transacties'].sum().reset_index()\n",
    "    #haal de jaren op en sorteer deze. Deze komen op de x-as.\n",
    "    jaren = sorted(df_transacties_per_type['Jaar'].unique())\n",
    "    #Haal de woningtypes op\n",
    "    woningtypes = df_transacties_per_type['Woningtype_NL'].unique()\n",
    "\n",
    "    #Barbreedte en positie-instellingen\n",
    "    bar_width = 0.15\n",
    "    x = np.arange(len(jaren))\n",
    "\n",
    "    #Voor elke index en woningtype in de  lijst woningtypes\n",
    "    for i, woningtype in enumerate(woningtypes):\n",
    "        #maak een lege lijst met y-waarden om te vullen met aantal_transactie waardes\n",
    "        y_values = []\n",
    "        #Voor elk jaar het aantal transacties ophalen en toevoegen aan y_values\n",
    "        for jaar in jaren:\n",
    "            waarde = df_transacties_per_type.loc[\n",
    "                (df_transacties_per_type['Jaar'] == jaar) &\n",
    "                (df_transacties_per_type['Woningtype_NL'] == woningtype),\n",
    "                'Aantal_transacties'\n",
    "            ]\n",
    "            y_values.append(waarde.values[0]) #Gebruik values om van een serie object naar een numerieke waarde te gaan om te kunnen plotten op een bar\n",
    "        #Maak de bars\n",
    "        ax.bar(x + i * bar_width, y_values, width=bar_width, label=woningtype, color=kleuren.get(woningtype))\n",
    "\n",
    "    # titels en assen instellen\n",
    "    ax.set_xlabel('Jaar')\n",
    "    ax.set_ylabel('Aantal transacties')\n",
    "    ax.set_title('Aantal transacties per woningtype per jaar')\n",
    "    ax.set_xticks(x + bar_width * (len(woningtypes) - 1) / 2)\n",
    "    ax.set_xticklabels(jaren)\n",
    "    # ax.legend(title='Woningtype', bbox_to_anchor=(1.05, 1), loc='upper left')\n",
    "\n",
    "def plot_transacties_per_gemeente(ax, df, kleuren):\n",
    "    #groeperen per gemeente en woningtype geef de sum van het aantal transacties over alle jaren\n",
    "    df_transacties_per_gemeente = df.groupby(['Naam_NL', 'Woningtype_NL'])['Aantal_transacties'].sum().reset_index()\n",
    "    #haal de gemeentes op en sorteer deze. Deze komen op de x-as.\n",
    "    gemeenten = sorted(df_transacties_per_gemeente['Naam_NL'].unique())\n",
    "    #Haal de woningtypes op\n",
    "    woningtypes = df_transacties_per_gemeente['Woningtype_NL'].unique()\n",
    "    \n",
    "    #Barbreedte en positie-instellingen\n",
    "    bar_width = 0.2\n",
    "    x = np.arange(len(gemeenten))\n",
    "\n",
    "    #Voor elke index en woningtype in de  lijst woningtypes\n",
    "    for i , woningtype in enumerate(woningtypes):\n",
    "        #maak een lege lijst met y-waarden om te vullen met aantal_transactie waardes\n",
    "        y_values = []\n",
    "        #Voor elke gemeente het aantal transacties ophalen en toevoegen aan y_values\n",
    "        for gemeente in gemeenten:\n",
    "            waarde = df_transacties_per_gemeente.loc[(df_transacties_per_gemeente['Naam_NL'] == gemeente) &\n",
    "            (df_transacties_per_gemeente['Woningtype_NL'] == woningtype),\n",
    "            'Aantal_transacties']\n",
    "            y_values.append(waarde.values[0] if not waarde.empty else 0)\n",
    "         #Maak de bars   \n",
    "        ax.bar(x + i * bar_width, y_values, width=bar_width, label=woningtype, color=kleuren.get(woningtype))\n",
    "    #titels en as instellen\n",
    "    ax.set_xticks(x + bar_width * (len(woningtypes) - 1) / 2)\n",
    "    ax.set_xticklabels(gemeenten, rotation=45, ha='right')\n",
    "    ax.set_xlabel(\"Gemeente\")\n",
    "    ax.set_ylabel(\"Aantal transacties\")\n",
    "    ax.set_title(\"Aantal transacties per woningtype per gemeente\")\n",
    "    \n",
    "\n",
    "fig, axs = plt.subplots(1, 2, figsize=(12, 6))\n",
    "plot_transacties_per_jaar(axs[0], df_transacties, kleuren)\n",
    "plot_transacties_per_gemeente(axs[1], df_transacties, kleuren)\n",
    "fig.legend(*axs[0].get_legend_handles_labels(),title='Woningtype',loc='lower center',bbox_to_anchor=(0.5, -0.15))\n",
    "plt.tight_layout()\n",
    "fig.savefig('plots/barplots aantal transacties per jaar en per gemeente.png', dpi=300, bbox_inches='tight')\n",
    "plt.show()"
   ]
  },
  {
   "cell_type": "markdown",
   "id": "5947ebb8-5641-4578-8474-a989e7f243d3",
   "metadata": {},
   "source": [
    "**Prijs vs aantal transacties per woningtype**\n",
    "    \n",
    "Onderzoekt of duurdere woningen ook vaker (of net minder) verkocht worden\n",
    "\n",
    "Inzichten uit scatterplot: Gemiddelde prijs vs aantal transacties\n",
    "\n",
    "De scatterplot toont dat er geen positief verband is tussen de gemiddelde verkoopprijs en het aantal transacties per woningtype.\n",
    "\n",
    "- Huizen met halfopen of gesloten bebouwing zijn veruit het populairst, met jaarlijks meer dan 2.000 transacties.\n",
    "- Open bebouwing is het duurst, maar wordt het minst verkocht.\n",
    "- Appartementen zijn gemiddeld het goedkoopst, maar ook hun transactievolume blijft relatief laag.\n",
    "\n",
    "De middenklasse van woningen (halfopen/gesloten) blijkt dus het meest aantrekkelijk op de vastgoedmarkt in dit arrondissement, zowel qua prijs als verkoopaantallen.\n"
   ]
  },
  {
   "cell_type": "code",
   "execution_count": null,
   "id": "9999a9f7-e289-477e-ada2-d3c5574665f4",
   "metadata": {},
   "outputs": [],
   "source": [
    "#Groepeer per jaar en woningtype en maak 2 kolommen met het gemiddelde en het aantal transacties\n",
    "df_scatter = df_transacties.groupby(['Jaar', 'Woningtype_NL']).agg(gemiddelde_prijs = ('Prijs_50e_Percentiel', 'mean'), aantal_transacties = ('Aantal_transacties','sum')).reset_index()\n",
    "display(df_scatter)\n",
    "\n",
    "fig, ax  = plt.subplots(figsize = (12,6))\n",
    "#Voor elk woningtype in de unieke woningtypes van df_scatter\n",
    "for woningtype in df_scatter['Woningtype_NL'].unique():\n",
    "    #filter de juiste data adh het woningtype\n",
    "    subset = df_scatter[df_scatter['Woningtype_NL'] == woningtype]\n",
    "    #Maak de scatter\n",
    "    plt.scatter(subset['gemiddelde_prijs'], subset['aantal_transacties'],\n",
    "              label = woningtype,s = 100)\n",
    "    #for elke index in een range gelijk aan de lengte van de subset, zet een label naast het datapunt\n",
    "    for i in range(len(subset)):\n",
    "        plt.text(\n",
    "        subset['gemiddelde_prijs'].iloc[i],\n",
    "        subset['aantal_transacties'].iloc[i] + 50,\n",
    "        str(subset['Jaar'].iloc[i]),\n",
    "        fontsize=9\n",
    "    )\n",
    "\n",
    "plt.title('Gemiddelde prijs vs aantal transacties per woningtype')\n",
    "plt.xlabel('Gemiddelde prijs (€)')\n",
    "plt.ylabel('Aantal transacties')\n",
    "plt.legend(title='Woningtype')\n",
    "plt.grid(True)\n",
    "plt.tight_layout()\n",
    "plt.savefig('plots/scatterplot Gemiddelde prijs vs aantal transacties per woningtype.png',dpi=300, bbox_inches='tight')\n",
    "plt.show()\n",
    "\n"
   ]
  },
  {
   "cell_type": "markdown",
   "id": "10f98b79-c498-411b-83ed-4f7697580df7",
   "metadata": {},
   "source": [
    "**Gemiddelde mediaanprijs per jaar en woningtype**\n",
    "\n",
    "Deze plot toont de gemiddelde mediaanprijs per jaar, uitgesplitst per woningtype (2019–2023). \n",
    "\n",
    "Het geeft een beeld van de prijsniveaus en hun evolutie.\n",
    "\n",
    "**Conclusie**\n",
    "\n",
    "Open bebouwing (groen) is veruit het duurst, met mediaanprijzen rond of boven de €400.000. De stijging is sterk tussen 2019 en 2022, met een kleine daling in 2023.\n",
    "\n",
    "Huizen met 2 of 3 gevels (oranje) zitten in de middenmoot, met een consistente stijging tot ongeveer €315.000 in 2023.\n",
    "\n",
    "Appartementen (blauw) zijn het goedkoopst, met een toename van ongeveer €225.000 naar €268.000.\n",
    "\n",
    "Alle woningtypes tonen prijsstijging, vooral tussen 2019 en 2022.\n",
    "\n",
    "In 2023 is er een lichte afvlakking of daling bij open bebouwing.\n",
    "\n",
    "Er is een groot prijsverschil tussen verschillende woningtypes: een open bebouwing is gemiddeld bijna dubbel zo duur als een appartement.\n",
    "\n"
   ]
  },
  {
   "cell_type": "code",
   "execution_count": null,
   "id": "08903a93-b891-44d6-bf0f-80f1547f7d6e",
   "metadata": {},
   "outputs": [],
   "source": [
    "#Maak een nieuwe df met een duidelijke naam. Alle rijen van df_clean met een periodetype jaar.\n",
    "df_mechelen_jaar = df_transacties.copy()\n",
    "#Groepeer de dataframe per jaar en woningtype en neem het gemiddelde van de kolom prijs_50_percentiel.\n",
    "df_mechelen_avg_jaar_woningtype = df_mechelen_jaar.groupby(['Jaar', 'Woningtype_NL']).agg(mediaanprijs = ('Prijs_50e_Percentiel', 'mean')).reset_index()\n",
    "#bepaal de jaren en de woningtypes\n",
    "jaren = sorted(df_mechelen_avg_jaar_woningtype['Jaar'].unique())\n",
    "woningtypes = df_mechelen_avg_jaar_woningtype['Woningtype_NL'].unique()\n",
    "\n",
    "#bar-instellingen\n",
    "bar_width = 0.25\n",
    "x = np.arange(len(jaren))\n",
    "\n",
    "\n",
    "fig, ax = plt.subplots(figsize=(12, 6))\n",
    "\n",
    "# Elke woningtype in woningtypes\n",
    "for i, woningtype in enumerate(woningtypes):\n",
    "    subset = df_mechelen_avg_jaar_woningtype[df_mechelen_avg_jaar_woningtype['Woningtype_NL'] == woningtype]\n",
    "    prijzen = subset['mediaanprijs'].values\n",
    "    ax.bar(x + i * bar_width, prijzen, width=bar_width, label=woningtype, color=kleuren.get(woningtype))\n",
    "\n",
    "# titels en as instellingen\n",
    "ax.set_xticks(x + bar_width)\n",
    "ax.set_xticklabels(jaren)\n",
    "ax.set_xlabel('Jaar')\n",
    "ax.set_ylabel('Gemiddelde mediaanprijs (€)')\n",
    "ax.set_title('Gemiddelde mediaanprijs per jaar en woningtype')\n",
    "ax.legend(title='Woningtype')\n",
    "ax.grid(axis='y', linestyle='--', alpha=0.5)\n",
    "\n",
    "fig.tight_layout()\n",
    "plt.savefig('plots/barplot Gemiddelde mediaanprijs per jaar en woningtype.png',dpi=300, bbox_inches='tight')\n",
    "plt.show()\n",
    "\n"
   ]
  },
  {
   "cell_type": "code",
   "execution_count": null,
   "id": "c895bcc3-821d-4114-b7a4-b95a20be6995",
   "metadata": {},
   "outputs": [],
   "source": [
    "df_2023_jaar = df_mechelen_clean[\n",
    "    (df_mechelen_clean['periode_type'] == 'Jaar') &\n",
    "    (df_mechelen_clean['Jaar'] == 2023)\n",
    "]\n",
    "\n",
    "# Gemiddelde mediaanprijs per gemeente\n",
    "gemprijs_per_gemeente = df_2023_jaar.groupby(['Woningtype_NL','Naam_NL'])['Prijs_50e_Percentiel'].mean().reset_index()\n",
    "gemprijs_per_gemeente\n",
    "#Voor elke woningtype in gemprijs_per_gemeente bepaal de goedkoopste en duurste top 5.\n",
    "for woningtype in gemprijs_per_gemeente['Woningtype_NL'].unique():\n",
    "    subset = gemprijs_per_gemeente[gemprijs_per_gemeente['Woningtype_NL'] == woningtype]\n",
    "    top5_duurste = subset.sort_values(by='Prijs_50e_Percentiel', ascending=False).head(5)\n",
    "    top5_goedkoopste = subset.sort_values(by='Prijs_50e_Percentiel', ascending=True).head(5)\n",
    "    display(f'Top5 duurste gemeenten per {woningtype} in 2023')\n",
    "    display(top5_duurste)\n",
    "    display(f'Top5 goedkoopste gemeenten per {woningtype} in 2023')\n",
    "    display(top5_goedkoopste)"
   ]
  },
  {
   "cell_type": "code",
   "execution_count": null,
   "id": "2acbdd58-bae2-42e6-bd9e-799f6936a3f1",
   "metadata": {},
   "outputs": [],
   "source": [
    "gdf = gpd.read_file('data/BELGIUM_-_Municipalities.geojson')\n",
    "result_gdf = inspect_df(gdf)\n",
    "print(gdf.columns)\n",
    "print(gdf.crs)\n",
    "gdf['CODE_INS'] = gdf['CODE_INS'].astype(int)\n",
    "display(gdf.info())"
   ]
  },
  {
   "cell_type": "code",
   "execution_count": null,
   "id": "1f693dca-9d3b-46d7-a0ea-442f771189b5",
   "metadata": {},
   "outputs": [],
   "source": [
    "# df_mechelen_clean.columns\n",
    "NIS_codes_mechelen_clean = df_mechelen_clean['NIS-code'].unique()\n",
    "gdf_filtered = gdf[gdf['CODE_INS'].isin(NIS_codes_mechelen_clean)][['ADMUNAGE', 'CODE_INS', 'geometry']]\n",
    "display(gdf_filtered)\n",
    "\n",
    "#Verander de naam van de kolom met de gemeente\n",
    "gdf_filtered = gdf_filtered.rename(columns={'ADMUNAGE': 'Naam_NL'})\n",
    "display(gdf_filtered)"
   ]
  },
  {
   "cell_type": "code",
   "execution_count": null,
   "id": "b366f09e-ed71-4bb7-801c-3ddbf1d1d6ff",
   "metadata": {},
   "outputs": [],
   "source": [
    "df_mechelen_clean"
   ]
  },
  {
   "cell_type": "markdown",
   "id": "5ddb8b78-5793-4bf5-9338-917b0ffe9bab",
   "metadata": {},
   "source": [
    "**Kaart visual**\n",
    "\n",
    "  Deze kaart toont de YOY-verandering (jaar-op-jaar) in de mediaanprijs per gemeente voor Q3 2024 t.o.v. Q3 2023, dus de procentuele stijging of daling van de mediane verkoopprijs per gemeente."
   ]
  },
  {
   "cell_type": "code",
   "execution_count": null,
   "id": "bb48cf74-565b-4ad6-b398-d4feb416594e",
   "metadata": {},
   "outputs": [],
   "source": [
    "#we vertrekken van dataframe gemeente_yoy_2024 die reeds per woningtype de yoy bevat voor alle gemeentes tussen Q3 2024 en Q3 2023.\n",
    "#Deze groeperen tot het gemiddelde over alle woningtypes heen\n",
    "df_kaart = gemeente_yoy_2024.groupby('Naam_NL').agg({'YOY': 'mean'}).reset_index()\n",
    "#mergen met de geo data\n",
    "merged_df_kaart = df_kaart.merge(gdf_filtered, on = 'Naam_NL')\n",
    "#omzetten in de geo dataframe\n",
    "merged_df_kaart = gpd.GeoDataFrame(merged_df_kaart, geometry='geometry', crs=\"EPSG:4326\")\n",
    "#nakijken of merged_df_kaart een geo dataframe is \n",
    "print(type(merged_df_kaart))\n",
    "\n",
    "fig, ax = plt.subplots(figsize=(10, 8))\n",
    "\n",
    "#plot Belgie als achtergrond\n",
    "gdf.plot(ax=ax, color='lightgrey', edgecolor='white')\n",
    "\n",
    "#plot de gemeenten\n",
    "merged_df_kaart.plot(\n",
    "    column='YOY',\n",
    "    cmap='coolwarm',\n",
    "    legend=True,\n",
    "    edgecolor='black',\n",
    "    linewidth=0.8,\n",
    "    ax=ax\n",
    ")\n",
    "\n",
    "#Labels met naam van de gemeenten en de YOY waarde toevoegen\n",
    "for idx, row in merged_df_kaart.iterrows():\n",
    "    centroid = row['geometry'].centroid\n",
    "    tekst = f\"{row['Naam_NL']}\\n{row['YOY']:.1f}%\"\n",
    "    ax.text(centroid.x, centroid.y, tekst,\n",
    "            ha='center', va='center', fontsize=6, color='black')\n",
    "\n",
    "#Door heel belgie te plotten is het gebied dat ik wil bekijken te klein dus ik zoom in op het gekleurde gebied\n",
    "bounds = merged_df_kaart.total_bounds\n",
    "ax.set_xlim(bounds[0] - 0.05, bounds[2] + 0.05)\n",
    "ax.set_ylim(bounds[1] - 0.05, bounds[3] + 0.05)\n",
    "\n",
    "\n",
    "ax.set_title('YOY-verandering in Prijs_50e_Percentiel per gemeente (Q3_2024 t.o.v. Q3_2023)', fontsize=13)\n",
    "ax.axis('off')\n",
    "plt.tight_layout()\n",
    "plt.savefig('plots/kaart YOY-verandering in Prijs_50e_Percentiel per gemeente (Q3_2024 t.o.v. Q3_2023).png',dpi=300, bbox_inches='tight')\n",
    "plt.show()\n",
    "\n"
   ]
  },
  {
   "cell_type": "markdown",
   "id": "45b3d49e-d847-40ef-b818-e9a2b9fc7783",
   "metadata": {},
   "source": [
    "**Boxplot mediaanprijs per woningtype**"
   ]
  },
  {
   "cell_type": "code",
   "execution_count": null,
   "id": "e8d632b5-727b-489f-a072-b03a0d839ad7",
   "metadata": {},
   "outputs": [],
   "source": [
    "fig, ax = plt.subplots(figsize=(10, 6))\n",
    "\n",
    "df_mechelen_clean.boxplot(\n",
    "    column='Prijs_50e_Percentiel',\n",
    "    by='Woningtype_NL',\n",
    "    ax=ax,\n",
    "    grid=True,\n",
    "    patch_artist=True,\n",
    "    boxprops=dict(facecolor='lightblue', color='black'),\n",
    "    medianprops=dict(color='red')\n",
    ")\n",
    "\n",
    "ax.set_title('Spreiding van Prijs_50e_Percentiel per woningtype')\n",
    "ax.set_ylabel('Prijs (€)')\n",
    "plt.suptitle('')\n",
    "plt.xticks(rotation=15)\n",
    "plt.tight_layout()\n",
    "plt.show()"
   ]
  },
  {
   "cell_type": "code",
   "execution_count": null,
   "id": "00b50fdc-3272-4063-adc0-287c7ac7a52b",
   "metadata": {},
   "outputs": [],
   "source": []
  }
 ],
 "metadata": {
  "kernelspec": {
   "display_name": "Python 3 (ipykernel)",
   "language": "python",
   "name": "python3"
  },
  "language_info": {
   "codemirror_mode": {
    "name": "ipython",
    "version": 3
   },
   "file_extension": ".py",
   "mimetype": "text/x-python",
   "name": "python",
   "nbconvert_exporter": "python",
   "pygments_lexer": "ipython3",
   "version": "3.11.6"
  }
 },
 "nbformat": 4,
 "nbformat_minor": 5
}
